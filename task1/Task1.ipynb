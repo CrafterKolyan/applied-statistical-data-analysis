{
 "cells": [
  {
   "cell_type": "markdown",
   "metadata": {},
   "source": [
    "## Здравствуйте, меня зовут *Николай Королев*, вот моё Задание №1 по курсу ПСАД-2020!"
   ]
  },
  {
   "cell_type": "code",
   "execution_count": 1,
   "metadata": {},
   "outputs": [],
   "source": [
    "import pandas as pd\n",
    "import numpy as np\n",
    "from matplotlib import pyplot as plt\n",
    "\n",
    "import seaborn as sns\n",
    "sns.set()\n",
    "\n",
    "%matplotlib inline\n",
    "# %config InlineBackend.figure_format = 'svg'\n",
    "\n",
    "\n",
    "RANDOM_SEED = 45135\n",
    "np.random.seed(RANDOM_SEED)"
   ]
  },
  {
   "cell_type": "code",
   "execution_count": 2,
   "metadata": {},
   "outputs": [],
   "source": [
    "from scipy.stats import linregress\n",
    "\n",
    "def draw_linear(x, y, x_name='', y_name=''):\n",
    "    \"Scatter x-y points and draw a LR line.\"\n",
    "    slope, intercept, r, _, _ = linregress(x, y)\n",
    "    x_lims = np.array([x.min() - 1, x.max() + 1])\n",
    "    plt.xlabel(x_name)\n",
    "    plt.ylabel(y_name)\n",
    "    plt.plot(x, y, 'g+', label='Objects')\n",
    "    plt.plot(x_lims, intercept + slope * x_lims, 'r--', label=r\"LR line with $\\rho \\approx {:.3f}$\".format(r))\n",
    "    plt.legend()\n",
    "    plt.show()"
   ]
  },
  {
   "cell_type": "code",
   "execution_count": 3,
   "metadata": {},
   "outputs": [],
   "source": [
    "from sklearn.metrics import confusion_matrix\n",
    "\n",
    "def draw_cm(x_bin, y_bin, x_name='', y_name=''):\n",
    "    \"Draw a confusion matrix for binary 1-D arrays x_bin and y_bin.\"\n",
    "    cm = confusion_matrix(x_bin, y_bin)\n",
    "    plt.matshow(cm)\n",
    "    plt.xlabel(x_name)\n",
    "    plt.ylabel(y_name)\n",
    "    plt.colorbar()\n",
    "    plt.grid(False)\n",
    "    for i in range(len(cm)):\n",
    "        for j in range(len(cm[0])):\n",
    "            text = plt.text(j, i, cm[i, j], ha=\"center\", va=\"center\", bbox=dict(boxstyle='round', facecolor='white', edgecolor='0.3'))\n",
    "    plt.show()"
   ]
  },
  {
   "cell_type": "code",
   "execution_count": 4,
   "metadata": {},
   "outputs": [],
   "source": [
    "from itertools import combinations\n",
    "from collections import defaultdict\n",
    "\n",
    "def apply_pair_statistics(S, pair_statistics, statistics_names):\n",
    "    \"\"\"Apply pair statistics to each pair in a dataset S \n",
    "    and return a DataFrame containing the results.\n",
    "    \n",
    "    Parameters\n",
    "    ----------\n",
    "    S: array of shape (N, D)\n",
    "        A dataset numpy array.\n",
    "    pair_statistics: list of callables\n",
    "        A list of statistics -- functions requiring two array arguments (x and y) \n",
    "        and returning a number (statistic's value)\n",
    "    statistics_names: list of strings\n",
    "        A list of statistics names.\n",
    "    \"\"\"\n",
    "    res = defaultdict(list)\n",
    "\n",
    "    for i, j in combinations(range(S.shape[1]), 2):\n",
    "        x_name, y_name = f'X{i+1}', f'X{j+1}'\n",
    "        x, y = S.T[i], S.T[j]\n",
    "        res[\"Pair\"].append(x_name + ' - ' + y_name)\n",
    "        for statistic, name in zip(pair_statistics, statistics_names):\n",
    "            res[name].append(statistic(x, y))\n",
    "\n",
    "    res = pd.DataFrame(res)\n",
    "    return res"
   ]
  },
  {
   "cell_type": "markdown",
   "metadata": {},
   "source": [
    "## Итак..."
   ]
  },
  {
   "cell_type": "markdown",
   "metadata": {},
   "source": [
    "Пусть задана обучающая выборка $\\widetilde{S}$, включающая значения переменных $X_1, \\dots, X_4$."
   ]
  },
  {
   "cell_type": "code",
   "execution_count": 5,
   "metadata": {},
   "outputs": [],
   "source": [
    "S = np.load('data', allow_pickle=True)"
   ]
  },
  {
   "cell_type": "markdown",
   "metadata": {},
   "source": [
    "### Задача 1  "
   ]
  },
  {
   "cell_type": "markdown",
   "metadata": {},
   "source": [
    "Вычислите для каждой пары переменных коэффициент корреляции Пирсона."
   ]
  },
  {
   "cell_type": "code",
   "execution_count": 6,
   "metadata": {},
   "outputs": [
    {
     "data": {
      "text/html": [
       "<div>\n",
       "<style scoped>\n",
       "    .dataframe tbody tr th:only-of-type {\n",
       "        vertical-align: middle;\n",
       "    }\n",
       "\n",
       "    .dataframe tbody tr th {\n",
       "        vertical-align: top;\n",
       "    }\n",
       "\n",
       "    .dataframe thead th {\n",
       "        text-align: right;\n",
       "    }\n",
       "</style>\n",
       "<table border=\"1\" class=\"dataframe\">\n",
       "  <thead>\n",
       "    <tr style=\"text-align: right;\">\n",
       "      <th></th>\n",
       "      <th>Pair</th>\n",
       "      <th>Pearson</th>\n",
       "    </tr>\n",
       "  </thead>\n",
       "  <tbody>\n",
       "    <tr>\n",
       "      <th>0</th>\n",
       "      <td>X1 - X2</td>\n",
       "      <td>0.717535</td>\n",
       "    </tr>\n",
       "    <tr>\n",
       "      <th>1</th>\n",
       "      <td>X1 - X3</td>\n",
       "      <td>0.214944</td>\n",
       "    </tr>\n",
       "    <tr>\n",
       "      <th>2</th>\n",
       "      <td>X1 - X4</td>\n",
       "      <td>0.179368</td>\n",
       "    </tr>\n",
       "    <tr>\n",
       "      <th>3</th>\n",
       "      <td>X2 - X3</td>\n",
       "      <td>0.388575</td>\n",
       "    </tr>\n",
       "    <tr>\n",
       "      <th>4</th>\n",
       "      <td>X2 - X4</td>\n",
       "      <td>0.352562</td>\n",
       "    </tr>\n",
       "    <tr>\n",
       "      <th>5</th>\n",
       "      <td>X3 - X4</td>\n",
       "      <td>0.873796</td>\n",
       "    </tr>\n",
       "  </tbody>\n",
       "</table>\n",
       "</div>"
      ],
      "text/plain": [
       "      Pair   Pearson\n",
       "0  X1 - X2  0.717535\n",
       "1  X1 - X3  0.214944\n",
       "2  X1 - X4  0.179368\n",
       "3  X2 - X3  0.388575\n",
       "4  X2 - X4  0.352562\n",
       "5  X3 - X4  0.873796"
      ]
     },
     "execution_count": 6,
     "metadata": {},
     "output_type": "execute_result"
    }
   ],
   "source": [
    "def pearson(x, y):\n",
    "    \"Calculate a Pearson correlation coefficient given 1-D data arrays x and y.\"\n",
    "    return ((x * y).mean() - x.mean() * y.mean()) / np.std(x) / np.std(y)\n",
    "\n",
    "res_pearson = apply_pair_statistics(S, [pearson], ['Pearson'])\n",
    "res_pearson"
   ]
  },
  {
   "cell_type": "markdown",
   "metadata": {},
   "source": [
    "Сопоставьте каждой из переменных  $X_1,\\dots,X_4$  соответствующую порядковую переменную."
   ]
  },
  {
   "cell_type": "code",
   "execution_count": 7,
   "metadata": {},
   "outputs": [],
   "source": [
    "def rank(x):\n",
    "    \"Assign ranks to data and return the resulting ranking array with averaging ranks of tied values.\"\n",
    "    argsorted = x.argsort()\n",
    "    x_sorted = np.empty_like(x)\n",
    "    x_sorted[:] = x[argsorted]\n",
    "    ranks = np.cumsum(np.r_[True, x_sorted[1:] != x_sorted[:-1]])\n",
    "    \n",
    "    inv_argsort = np.empty_like(argsorted)\n",
    "    inv_argsort[argsorted] = np.arange(len(x))\n",
    "    \n",
    "    mask = np.r_[True, ranks[1:] != ranks[:-1]]\n",
    "    all_ranks = np.arange(len(x)) + 1\n",
    "    mapping_array = all_ranks[mask].astype(float)\n",
    "    min_ranks_mask = np.r_[mask[:-1] & ~mask[1:], False]\n",
    "    min_ranks = all_ranks[min_ranks_mask]\n",
    "    max_ranks = all_ranks[np.r_[~mask[:-1] & mask[1:], ~mask[-1]]]\n",
    "\n",
    "    corrected_ranks = (min_ranks + max_ranks) / 2\n",
    "    mapping_array = mapping_array.astype(corrected_ranks.dtype)\n",
    "    mapping_array[ranks[min_ranks_mask] - 1] = (min_ranks + max_ranks) / 2\n",
    "    \n",
    "    ranks = mapping_array[ranks - 1][inv_argsort]\n",
    "    return ranks\n",
    "\n",
    "S_r = np.array([rank(x) for x in S.T]).T"
   ]
  },
  {
   "cell_type": "markdown",
   "metadata": {},
   "source": [
    "Вычислите для каждой из пар переменных коэффициенты корреляции Спирмена и Кендалла ($\\tau$-коэффициент)."
   ]
  },
  {
   "cell_type": "code",
   "execution_count": 8,
   "metadata": {},
   "outputs": [
    {
     "data": {
      "text/html": [
       "<div>\n",
       "<style scoped>\n",
       "    .dataframe tbody tr th:only-of-type {\n",
       "        vertical-align: middle;\n",
       "    }\n",
       "\n",
       "    .dataframe tbody tr th {\n",
       "        vertical-align: top;\n",
       "    }\n",
       "\n",
       "    .dataframe thead th {\n",
       "        text-align: right;\n",
       "    }\n",
       "</style>\n",
       "<table border=\"1\" class=\"dataframe\">\n",
       "  <thead>\n",
       "    <tr style=\"text-align: right;\">\n",
       "      <th></th>\n",
       "      <th>Pair</th>\n",
       "      <th>Spearman</th>\n",
       "      <th>Kendall</th>\n",
       "    </tr>\n",
       "  </thead>\n",
       "  <tbody>\n",
       "    <tr>\n",
       "      <th>0</th>\n",
       "      <td>X1 - X2</td>\n",
       "      <td>0.999789</td>\n",
       "      <td>0.996545</td>\n",
       "    </tr>\n",
       "    <tr>\n",
       "      <th>1</th>\n",
       "      <td>X1 - X3</td>\n",
       "      <td>0.068620</td>\n",
       "      <td>0.050911</td>\n",
       "    </tr>\n",
       "    <tr>\n",
       "      <th>2</th>\n",
       "      <td>X1 - X4</td>\n",
       "      <td>0.047029</td>\n",
       "      <td>0.038293</td>\n",
       "    </tr>\n",
       "    <tr>\n",
       "      <th>3</th>\n",
       "      <td>X2 - X3</td>\n",
       "      <td>0.070098</td>\n",
       "      <td>0.052847</td>\n",
       "    </tr>\n",
       "    <tr>\n",
       "      <th>4</th>\n",
       "      <td>X2 - X4</td>\n",
       "      <td>0.048231</td>\n",
       "      <td>0.041470</td>\n",
       "    </tr>\n",
       "    <tr>\n",
       "      <th>5</th>\n",
       "      <td>X3 - X4</td>\n",
       "      <td>0.819520</td>\n",
       "      <td>0.650535</td>\n",
       "    </tr>\n",
       "  </tbody>\n",
       "</table>\n",
       "</div>"
      ],
      "text/plain": [
       "      Pair  Spearman   Kendall\n",
       "0  X1 - X2  0.999789  0.996545\n",
       "1  X1 - X3  0.068620  0.050911\n",
       "2  X1 - X4  0.047029  0.038293\n",
       "3  X2 - X3  0.070098  0.052847\n",
       "4  X2 - X4  0.048231  0.041470\n",
       "5  X3 - X4  0.819520  0.650535"
      ]
     },
     "execution_count": 8,
     "metadata": {},
     "output_type": "execute_result"
    }
   ],
   "source": [
    "def spearman(x_r, y_r):\n",
    "    \"Calculate a Spearman correlation coefficient given 1-D ranking arrays x_r and y_r.\"\n",
    "    return pearson(x_r, y_r)\n",
    "\n",
    "def kendall(x_r, y_r):\n",
    "    \"Calculate a Kendall tau correlation coefficient given 1-D ranking arrays x_r and y_r.\"\n",
    "    def create_sign_matrix(x):\n",
    "        x_mask = x[np.newaxis, :] - x[:, np.newaxis]\n",
    "        x_mask[x_mask < 0] = -1\n",
    "        x_mask[x_mask > 0] = 1\n",
    "        return x_mask\n",
    "    \n",
    "    x_sign = create_sign_matrix(x_r)\n",
    "    y_sign = create_sign_matrix(y_r)\n",
    "    sign_matrix = x_sign * y_sign\n",
    "    total = np.abs(sign_matrix).sum()\n",
    "    x_ties = ((x_sign == 0) & (y_sign != 0)).sum()\n",
    "    y_ties = ((y_sign == 0) & (x_sign != 0)).sum()\n",
    "    return sign_matrix.sum() / np.sqrt((total + x_ties) * (total + y_ties))\n",
    "\n",
    "res_ranked = apply_pair_statistics(S_r, [spearman, kendall], ['Spearman', 'Kendall'])\n",
    "res_ranked"
   ]
  },
  {
   "cell_type": "markdown",
   "metadata": {},
   "source": [
    "Посмотрите на общую таблицу результатов и на графики ниже, сделайте выводы. \n",
    "\n",
    "При желании можно построить свои графики / вывести дополнительные результаты."
   ]
  },
  {
   "cell_type": "code",
   "execution_count": 9,
   "metadata": {},
   "outputs": [
    {
     "data": {
      "text/html": [
       "<div>\n",
       "<style scoped>\n",
       "    .dataframe tbody tr th:only-of-type {\n",
       "        vertical-align: middle;\n",
       "    }\n",
       "\n",
       "    .dataframe tbody tr th {\n",
       "        vertical-align: top;\n",
       "    }\n",
       "\n",
       "    .dataframe thead th {\n",
       "        text-align: right;\n",
       "    }\n",
       "</style>\n",
       "<table border=\"1\" class=\"dataframe\">\n",
       "  <thead>\n",
       "    <tr style=\"text-align: right;\">\n",
       "      <th></th>\n",
       "      <th>Pair</th>\n",
       "      <th>Pearson</th>\n",
       "      <th>Spearman</th>\n",
       "      <th>Kendall</th>\n",
       "    </tr>\n",
       "  </thead>\n",
       "  <tbody>\n",
       "    <tr>\n",
       "      <th>0</th>\n",
       "      <td>X1 - X2</td>\n",
       "      <td>0.717535</td>\n",
       "      <td>0.999789</td>\n",
       "      <td>0.996545</td>\n",
       "    </tr>\n",
       "    <tr>\n",
       "      <th>1</th>\n",
       "      <td>X1 - X3</td>\n",
       "      <td>0.214944</td>\n",
       "      <td>0.068620</td>\n",
       "      <td>0.050911</td>\n",
       "    </tr>\n",
       "    <tr>\n",
       "      <th>2</th>\n",
       "      <td>X1 - X4</td>\n",
       "      <td>0.179368</td>\n",
       "      <td>0.047029</td>\n",
       "      <td>0.038293</td>\n",
       "    </tr>\n",
       "    <tr>\n",
       "      <th>3</th>\n",
       "      <td>X2 - X3</td>\n",
       "      <td>0.388575</td>\n",
       "      <td>0.070098</td>\n",
       "      <td>0.052847</td>\n",
       "    </tr>\n",
       "    <tr>\n",
       "      <th>4</th>\n",
       "      <td>X2 - X4</td>\n",
       "      <td>0.352562</td>\n",
       "      <td>0.048231</td>\n",
       "      <td>0.041470</td>\n",
       "    </tr>\n",
       "    <tr>\n",
       "      <th>5</th>\n",
       "      <td>X3 - X4</td>\n",
       "      <td>0.873796</td>\n",
       "      <td>0.819520</td>\n",
       "      <td>0.650535</td>\n",
       "    </tr>\n",
       "  </tbody>\n",
       "</table>\n",
       "</div>"
      ],
      "text/plain": [
       "      Pair   Pearson  Spearman   Kendall\n",
       "0  X1 - X2  0.717535  0.999789  0.996545\n",
       "1  X1 - X3  0.214944  0.068620  0.050911\n",
       "2  X1 - X4  0.179368  0.047029  0.038293\n",
       "3  X2 - X3  0.388575  0.070098  0.052847\n",
       "4  X2 - X4  0.352562  0.048231  0.041470\n",
       "5  X3 - X4  0.873796  0.819520  0.650535"
      ]
     },
     "execution_count": 9,
     "metadata": {},
     "output_type": "execute_result"
    }
   ],
   "source": [
    "res_final = pd.merge(res_pearson, res_ranked)\n",
    "res_final"
   ]
  },
  {
   "cell_type": "code",
   "execution_count": 10,
   "metadata": {},
   "outputs": [
    {
     "data": {
      "image/png": "[encoded data removed]",
      "text/plain": [
       "<Figure size 432x288 with 1 Axes>"
      ]
     },
     "metadata": {
      "needs_background": "light"
     },
     "output_type": "display_data"
    },
    {
     "data": {
      "image/png": "[encoded data removed]",
      "text/plain": [
       "<Figure size 432x288 with 1 Axes>"
      ]
     },
     "metadata": {
      "needs_background": "light"
     },
     "output_type": "display_data"
    },
    {
     "data": {
      "image/png": "[encoded data removed]",
      "text/plain": [
       "<Figure size 432x288 with 1 Axes>"
      ]
     },
     "metadata": {
      "needs_background": "light"
     },
     "output_type": "display_data"
    },
    {
     "data": {
      "image/png": "[encoded data removed]",
      "text/plain": [
       "<Figure size 432x288 with 1 Axes>"
      ]
     },
     "metadata": {
      "needs_background": "light"
     },
     "output_type": "display_data"
    },
    {
     "data": {
      "image/png": "[encoded data removed]",
      "text/plain": [
       "<Figure size 432x288 with 1 Axes>"
      ]
     },
     "metadata": {
      "needs_background": "light"
     },
     "output_type": "display_data"
    },
    {
     "data": {
      "image/png": "[encoded data removed]",
      "text/plain": [
       "<Figure size 432x288 with 1 Axes>"
      ]
     },
     "metadata": {
      "needs_background": "light"
     },
     "output_type": "display_data"
    }
   ],
   "source": [
    "for i in range(S.shape[1]):\n",
    "    for j in range(i + 1, S.shape[1]):\n",
    "        draw_linear(S.T[i], S.T[j], f'X{i + 1}', f'X{j + 1}')"
   ]
  },
  {
   "cell_type": "code",
   "execution_count": 11,
   "metadata": {},
   "outputs": [
    {
     "data": {
      "image/png": "[encoded data removed]",
      "text/plain": [
       "<Figure size 432x288 with 1 Axes>"
      ]
     },
     "metadata": {
      "needs_background": "light"
     },
     "output_type": "display_data"
    }
   ],
   "source": [
    "mask = S.T[1] < 30\n",
    "draw_linear(S.T[1][mask], S.T[2][mask], f'X2', f'X3')"
   ]
  },
  {
   "cell_type": "markdown",
   "metadata": {},
   "source": [
    "**Выводы:** На паре X1-X2 можно увидеть явную монотонную зависимость, которая не идеально отлавливается коэффициентом корреляции Пирсона, т.к. зависимость не линейная, но при этом великолепно находится при помощи коэффициента корреляции Спирмена и Кэндалла. На паре X2-X3 и X2-X4 можно увидеть неустойчивость коэффициента корреляции Пирсона к выбросам (он чрезвычайно высок), хотя в действительности никакой очевидной зависимости не наблюдается, что можно понять по коэффициентам корреляции Спирмена и Кэндалла. На паре X3-X4 прослеживается линейная зависимость, что соответствует тому, что все исследуемые коэффициенты корреляции достаточно высоки."
   ]
  },
  {
   "cell_type": "markdown",
   "metadata": {},
   "source": [
    "### Задача 2\n"
   ]
  },
  {
   "cell_type": "markdown",
   "metadata": {},
   "source": [
    "Бинаризуйте выборку $\\widetilde{S}$ по медиане."
   ]
  },
  {
   "cell_type": "code",
   "execution_count": 12,
   "metadata": {},
   "outputs": [],
   "source": [
    "S_bin = S <= np.median(S, axis=0)[np.newaxis, :]"
   ]
  },
  {
   "cell_type": "markdown",
   "metadata": {},
   "source": [
    "Вычислите для каждой пары бинаризованных переменных коэффициенты близости Жаккарда и $\\phi$."
   ]
  },
  {
   "cell_type": "code",
   "execution_count": 13,
   "metadata": {},
   "outputs": [
    {
     "data": {
      "text/html": [
       "<div>\n",
       "<style scoped>\n",
       "    .dataframe tbody tr th:only-of-type {\n",
       "        vertical-align: middle;\n",
       "    }\n",
       "\n",
       "    .dataframe tbody tr th {\n",
       "        vertical-align: top;\n",
       "    }\n",
       "\n",
       "    .dataframe thead th {\n",
       "        text-align: right;\n",
       "    }\n",
       "</style>\n",
       "<table border=\"1\" class=\"dataframe\">\n",
       "  <thead>\n",
       "    <tr style=\"text-align: right;\">\n",
       "      <th></th>\n",
       "      <th>Pair</th>\n",
       "      <th>Jaccard</th>\n",
       "      <th>Phi</th>\n",
       "    </tr>\n",
       "  </thead>\n",
       "  <tbody>\n",
       "    <tr>\n",
       "      <th>0</th>\n",
       "      <td>X1 - X2</td>\n",
       "      <td>1.000000</td>\n",
       "      <td>1.000000</td>\n",
       "    </tr>\n",
       "    <tr>\n",
       "      <th>1</th>\n",
       "      <td>X1 - X3</td>\n",
       "      <td>0.318182</td>\n",
       "      <td>-0.052956</td>\n",
       "    </tr>\n",
       "    <tr>\n",
       "      <th>2</th>\n",
       "      <td>X1 - X4</td>\n",
       "      <td>0.380952</td>\n",
       "      <td>0.087438</td>\n",
       "    </tr>\n",
       "    <tr>\n",
       "      <th>3</th>\n",
       "      <td>X2 - X3</td>\n",
       "      <td>0.318182</td>\n",
       "      <td>-0.052956</td>\n",
       "    </tr>\n",
       "    <tr>\n",
       "      <th>4</th>\n",
       "      <td>X2 - X4</td>\n",
       "      <td>0.380952</td>\n",
       "      <td>0.087438</td>\n",
       "    </tr>\n",
       "    <tr>\n",
       "      <th>5</th>\n",
       "      <td>X3 - X4</td>\n",
       "      <td>0.757576</td>\n",
       "      <td>0.719212</td>\n",
       "    </tr>\n",
       "  </tbody>\n",
       "</table>\n",
       "</div>"
      ],
      "text/plain": [
       "      Pair   Jaccard       Phi\n",
       "0  X1 - X2  1.000000  1.000000\n",
       "1  X1 - X3  0.318182 -0.052956\n",
       "2  X1 - X4  0.380952  0.087438\n",
       "3  X2 - X3  0.318182 -0.052956\n",
       "4  X2 - X4  0.380952  0.087438\n",
       "5  X3 - X4  0.757576  0.719212"
      ]
     },
     "execution_count": 13,
     "metadata": {},
     "output_type": "execute_result"
    }
   ],
   "source": [
    "def jaccard(x_bin, y_bin):\n",
    "    \"Compute the Jaccard coefficient given 1-D boolean arrays x_bin and y_bin.\"\n",
    "    return (x_bin & y_bin).sum() / (x_bin | y_bin).sum()\n",
    "\n",
    "def phi(x_bin, y_bin):\n",
    "    \"Compute the phi coefficient given 1-D boolean arrays x_bin and y_bin.\"\n",
    "    a = (x_bin & y_bin).sum()\n",
    "    b = (~x_bin & y_bin).sum()\n",
    "    c = (x_bin & ~y_bin).sum()\n",
    "    d = (~x_bin & ~y_bin).sum()\n",
    "    return (a * d - b * c) / np.sqrt((a + b) * (c + d) * (b + d) * (a + c))\n",
    "\n",
    "res_bin = apply_pair_statistics(S_bin, [jaccard, phi], ['Jaccard', 'Phi'])\n",
    "res_bin"
   ]
  },
  {
   "cell_type": "markdown",
   "metadata": {},
   "source": [
    "Сделайте выводы по полученным результатам и приведённым ниже матрицам ошибок.\n",
    "\n",
    "При желании можно построить свои графики / вывести дополнительные результаты."
   ]
  },
  {
   "cell_type": "code",
   "execution_count": 14,
   "metadata": {},
   "outputs": [
    {
     "data": {
      "image/png": "[encoded data removed]",
      "text/plain": [
       "<Figure size 288x288 with 2 Axes>"
      ]
     },
     "metadata": {
      "needs_background": "light"
     },
     "output_type": "display_data"
    },
    {
     "data": {
      "image/png": "[encoded data removed]",
      "text/plain": [
       "<Figure size 288x288 with 2 Axes>"
      ]
     },
     "metadata": {
      "needs_background": "light"
     },
     "output_type": "display_data"
    },
    {
     "data": {
      "image/png": "[encoded data removed]",
      "text/plain": [
       "<Figure size 288x288 with 2 Axes>"
      ]
     },
     "metadata": {
      "needs_background": "light"
     },
     "output_type": "display_data"
    }
   ],
   "source": [
    "draw_cm(S_bin.T[0], S_bin.T[1], 'X1', 'X2')\n",
    "draw_cm(S_bin.T[1], S_bin.T[2], 'X2', 'X3')\n",
    "draw_cm(S_bin.T[2], S_bin.T[3], 'X3', 'X4')"
   ]
  },
  {
   "cell_type": "markdown",
   "metadata": {},
   "source": [
    "**Выводы:** На паре X1-X2 виден случай идеального совпадения векторов из-за коэффициенты близости Жаккара и $\\phi$ равны 1. Это соответствует результату из предыдущей задачи, т.к. данная пара переменных имеет монотонную зависимость, а бинаризация производилась по медиане. На паре X2-X3 видно, что вектора на самом деле отличаются примерно в половине позиций (данный случай вполне может соответствовать двум независимым случайным векторам), но при этом коэффициент близости Жаккара необоснованно высок, в отличие от $\\phi$, который показывает меру близости около 0. Хотя в случае, если бы нули были не информативны, можно было бы смотреть на коэффициент близости Жаккара, т.к. в таком случае он показывает более адекватную оценку схожесть векторов. Вектора X3 и X4 схожи, при этом в них примерно равное количество единиц и нулей, поэтому коэффициенты близости Жаккара и $\\phi$ достаточно высоки. По итогу, можно сделать вывод о том, что в случае наличия незначащих нулей лучше использовать коэффициент близости Жаккара, а в случае, если нули необходимо учитывать, лучше склоняться в сторону использования $\\phi$. "
   ]
  },
  {
   "cell_type": "markdown",
   "metadata": {},
   "source": [
    "### Задача 3"
   ]
  },
  {
   "cell_type": "markdown",
   "metadata": {},
   "source": [
    "#### Продолжительность жизни крыс\n",
    "\n",
    "В исследовании принимало участие 195 крыс. 106 из них держали на строгой диете, оставшиеся 89 — на диете ad libitum. Имеющиеся данные: продолжительность жизни крыс в каждой из групп. Влияет ли диета на продолжительность жизни?"
   ]
  },
  {
   "cell_type": "code",
   "execution_count": 15,
   "metadata": {
    "scrolled": true
   },
   "outputs": [
    {
     "data": {
      "text/html": [
       "<div>\n",
       "<style scoped>\n",
       "    .dataframe tbody tr th:only-of-type {\n",
       "        vertical-align: middle;\n",
       "    }\n",
       "\n",
       "    .dataframe tbody tr th {\n",
       "        vertical-align: top;\n",
       "    }\n",
       "\n",
       "    .dataframe thead th {\n",
       "        text-align: right;\n",
       "    }\n",
       "</style>\n",
       "<table border=\"1\" class=\"dataframe\">\n",
       "  <thead>\n",
       "    <tr style=\"text-align: right;\">\n",
       "      <th></th>\n",
       "      <th>lifespan</th>\n",
       "      <th>diet</th>\n",
       "    </tr>\n",
       "  </thead>\n",
       "  <tbody>\n",
       "    <tr>\n",
       "      <th>97</th>\n",
       "      <td>1258</td>\n",
       "      <td>restricted</td>\n",
       "    </tr>\n",
       "    <tr>\n",
       "      <th>61</th>\n",
       "      <td>1076</td>\n",
       "      <td>restricted</td>\n",
       "    </tr>\n",
       "    <tr>\n",
       "      <th>7</th>\n",
       "      <td>390</td>\n",
       "      <td>restricted</td>\n",
       "    </tr>\n",
       "    <tr>\n",
       "      <th>104</th>\n",
       "      <td>1393</td>\n",
       "      <td>restricted</td>\n",
       "    </tr>\n",
       "    <tr>\n",
       "      <th>134</th>\n",
       "      <td>667</td>\n",
       "      <td>ad libitum</td>\n",
       "    </tr>\n",
       "  </tbody>\n",
       "</table>\n",
       "</div>"
      ],
      "text/plain": [
       "     lifespan        diet\n",
       "97       1258  restricted\n",
       "61       1076  restricted\n",
       "7         390  restricted\n",
       "104      1393  restricted\n",
       "134       667  ad libitum"
      ]
     },
     "execution_count": 15,
     "metadata": {},
     "output_type": "execute_result"
    }
   ],
   "source": [
    "rats = pd.read_table(\"rats.txt\", sep=\"\\t\")\n",
    "rats.sample(5)"
   ]
  },
  {
   "cell_type": "code",
   "execution_count": 16,
   "metadata": {},
   "outputs": [],
   "source": [
    "x1 = rats.loc[rats['diet'] == 'restricted']['lifespan']\n",
    "x2 = rats.loc[rats['diet'] == 'ad libitum']['lifespan']"
   ]
  },
  {
   "cell_type": "code",
   "execution_count": 17,
   "metadata": {},
   "outputs": [
    {
     "data": {
      "image/png": "[encoded data removed]",
      "text/plain": [
       "<Figure size 720x360 with 2 Axes>"
      ]
     },
     "metadata": {
      "needs_background": "light"
     },
     "output_type": "display_data"
    }
   ],
   "source": [
    "labels = ['Restricted diet', 'Ad libitum diet']\n",
    "plt.figure(figsize=(10, 5))\n",
    "plt.subplot(1, 2, 1)\n",
    "plt.title(labels[0])\n",
    "plt.hist(x1)\n",
    "plt.subplot(1, 2, 2)\n",
    "plt.title(labels[1])\n",
    "plt.hist(x2)\n",
    "plt.tight_layout()\n",
    "plt.show()"
   ]
  },
  {
   "cell_type": "markdown",
   "metadata": {},
   "source": [
    "1. Нарисуйте один график с двумя boxplot на нем (для каждой из диет). Укажите на графике 95% доверительный интервал для каждой из медиан. В этом вам поможет функция boxplot(..., notch=TRUE), которой первым аргументом можно передать объект типа формула."
   ]
  },
  {
   "cell_type": "code",
   "execution_count": 18,
   "metadata": {},
   "outputs": [
    {
     "data": {
      "image/png": "[encoded data removed]",
      "text/plain": [
       "<Figure size 432x288 with 1 Axes>"
      ]
     },
     "metadata": {
      "needs_background": "light"
     },
     "output_type": "display_data"
    }
   ],
   "source": [
    "plt.boxplot([x1, x2], notch=True, labels=labels)\n",
    "plt.show()"
   ]
  },
  {
   "cell_type": "markdown",
   "metadata": {},
   "source": [
    "### Нормальность"
   ]
  },
  {
   "cell_type": "markdown",
   "metadata": {},
   "source": [
    "2. Проверим нормальность двух выборок (для каждой из диет). Для этого нарисуйте qq-график и отметьте на нем прямую линию, соответствующую идеальным теоретическим квантилям нормального распределения. Похожи ли данные на нормальное распределение?"
   ]
  },
  {
   "cell_type": "code",
   "execution_count": null,
   "metadata": {},
   "outputs": [],
   "source": []
  },
  {
   "cell_type": "markdown",
   "metadata": {},
   "source": [
    "3. Попробуйте исключить крыс, проживших меньше 400 дней (например, можно предположить, что смерть раньше этого срока вызывается причинами, не связанными с диетой) и снова нарисовать qq-графики. Можно ли применять к этим данным критерии, основанные на предположении о нормальности?"
   ]
  },
  {
   "cell_type": "code",
   "execution_count": null,
   "metadata": {},
   "outputs": [],
   "source": []
  },
  {
   "cell_type": "markdown",
   "metadata": {},
   "source": [
    "Усечённые выборки можно считать практически нормальными."
   ]
  },
  {
   "cell_type": "markdown",
   "metadata": {},
   "source": [
    "### Сравнение средних"
   ]
  },
  {
   "cell_type": "markdown",
   "metadata": {},
   "source": [
    "Проверьте нулевую гипотезу\n",
    "\n",
    "$H_0$: продолжительность жизни крыс не меняется при ограничении диеты.\n",
    "\n",
    "против следующих альтернатив:\n",
    "\n",
    "$H_1$: крысы на строгой диете живут дольше.\n",
    "\n",
    "$H_1$: средняя продолжительность жизни крыс меняется при ограничении диеты. \n",
    "\n",
    "Проверить правильность вычислений вы можете с помощью библиотечной функции `scipy.stats.ttest_ind`, которая реализует двусторонний критерий Стьюдента для двух независимых выборок."
   ]
  },
  {
   "cell_type": "code",
   "execution_count": null,
   "metadata": {},
   "outputs": [],
   "source": []
  }
 ],
 "metadata": {
  "kernelspec": {
   "display_name": "Python 3",
   "language": "python",
   "name": "python3"
  },
  "language_info": {
   "codemirror_mode": {
    "name": "ipython",
    "version": 3
   },
   "file_extension": ".py",
   "mimetype": "text/x-python",
   "name": "python",
   "nbconvert_exporter": "python",
   "pygments_lexer": "ipython3",
   "version": "3.6.9"
  }
 },
 "nbformat": 4,
 "nbformat_minor": 2
}
