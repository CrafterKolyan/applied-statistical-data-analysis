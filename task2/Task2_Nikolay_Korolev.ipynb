{
 "cells": [
  {
   "cell_type": "markdown",
   "metadata": {},
   "source": [
    "## Здравствуйте, меня зовут *Николай Королев*, вот моё Задание №2 по курсу ПСАД-2020!"
   ]
  },
  {
   "cell_type": "code",
   "execution_count": 1,
   "metadata": {},
   "outputs": [],
   "source": [
    "import pandas as pd\n",
    "import numpy as np\n",
    "import scipy as sp\n",
    "from collections import defaultdict\n",
    "from matplotlib import pyplot as plt\n",
    "from statsmodels.stats.proportion import proportion_confint\n",
    "\n",
    "import seaborn as sns\n",
    "sns.set()\n",
    "\n",
    "np.random.seed(228)\n",
    "\n",
    "%matplotlib inline\n",
    "# %config InlineBackend.figure_format = 'svg' "
   ]
  },
  {
   "cell_type": "markdown",
   "metadata": {},
   "source": [
    "### Задача 1  "
   ]
  },
  {
   "cell_type": "markdown",
   "metadata": {},
   "source": [
    "Задана выборка, включающая значения переменной $X$. "
   ]
  },
  {
   "cell_type": "code",
   "execution_count": 2,
   "metadata": {},
   "outputs": [
    {
     "name": "stdout",
     "output_type": "stream",
     "text": [
      "X sample mean:  5.206\n"
     ]
    },
    {
     "data": {
      "image/png": "[encoded data removed]",
      "text/plain": [
       "<Figure size 432x288 with 1 Axes>"
      ]
     },
     "metadata": {
      "needs_background": "light"
     },
     "output_type": "display_data"
    }
   ],
   "source": [
    "X = pd.read_excel('t1_data.xlsx').values.ravel()\n",
    "\n",
    "sns.distplot(X, label='X distribution', bins=20)\n",
    "plt.vlines(X.mean(), *plt.ylim(), linestyles='--', colors='b', label=\"X sample mean\")\n",
    "plt.legend()\n",
    "print(\"X sample mean: \", np.round(X.mean(), 3))\n",
    "plt.show()"
   ]
  },
  {
   "cell_type": "markdown",
   "metadata": {},
   "source": [
    "Определите доверительный интервал для математического ожидания на уровне $\\alpha$ (для каждого $\\alpha$ из списка) c использованием..."
   ]
  },
  {
   "cell_type": "code",
   "execution_count": 3,
   "metadata": {},
   "outputs": [],
   "source": [
    "alpha_list = np.array([0.1, 0.075, 0.05, 0.025, 0.01]) "
   ]
  },
  {
   "cell_type": "markdown",
   "metadata": {},
   "source": [
    "Распределения Стьюдента"
   ]
  },
  {
   "cell_type": "code",
   "execution_count": 4,
   "metadata": {},
   "outputs": [],
   "source": [
    "def student_mci(data, alpha=0.05):\n",
    "    sigma = np.std(data, ddof=1)\n",
    "    inc = sp.stats.t(len(data) - 1).ppf(1 - alpha / 2) * sigma / np.sqrt(len(data))\n",
    "    mean = np.mean(data)\n",
    "    return mean - inc, mean + inc"
   ]
  },
  {
   "cell_type": "markdown",
   "metadata": {},
   "source": [
    "Бутстрэп оценивания"
   ]
  },
  {
   "cell_type": "code",
   "execution_count": 5,
   "metadata": {},
   "outputs": [],
   "source": [
    "def bootstrap_mci(data, alpha=0.05):\n",
    "    n_samples = 10000\n",
    "    mean = data.mean()\n",
    "    boot = np.random.choice(data, replace=True, size=(n_samples, len(data))).mean(axis=1) - mean\n",
    "    return mean - np.percentile(boot, (1 - alpha / 2) * 100), mean - np.percentile(boot, alpha / 2 * 100)"
   ]
  },
  {
   "cell_type": "markdown",
   "metadata": {},
   "source": [
    "Сравните результаты и сделайте выводы."
   ]
  },
  {
   "cell_type": "code",
   "execution_count": 6,
   "metadata": {},
   "outputs": [
    {
     "data": {
      "text/html": [
       "<div>\n",
       "<style scoped>\n",
       "    .dataframe tbody tr th:only-of-type {\n",
       "        vertical-align: middle;\n",
       "    }\n",
       "\n",
       "    .dataframe tbody tr th {\n",
       "        vertical-align: top;\n",
       "    }\n",
       "\n",
       "    .dataframe thead th {\n",
       "        text-align: right;\n",
       "    }\n",
       "</style>\n",
       "<table border=\"1\" class=\"dataframe\">\n",
       "  <thead>\n",
       "    <tr style=\"text-align: right;\">\n",
       "      <th></th>\n",
       "      <th>alpha</th>\n",
       "      <th>Student</th>\n",
       "      <th>Bootstrap</th>\n",
       "    </tr>\n",
       "  </thead>\n",
       "  <tbody>\n",
       "    <tr>\n",
       "      <th>0</th>\n",
       "      <td>0.100</td>\n",
       "      <td>[4.956, 5.456]</td>\n",
       "      <td>[4.957, 5.449]</td>\n",
       "    </tr>\n",
       "    <tr>\n",
       "      <th>1</th>\n",
       "      <td>0.075</td>\n",
       "      <td>[4.935, 5.477]</td>\n",
       "      <td>[4.937, 5.475]</td>\n",
       "    </tr>\n",
       "    <tr>\n",
       "      <th>2</th>\n",
       "      <td>0.050</td>\n",
       "      <td>[4.907, 5.505]</td>\n",
       "      <td>[4.91, 5.488]</td>\n",
       "    </tr>\n",
       "    <tr>\n",
       "      <th>3</th>\n",
       "      <td>0.025</td>\n",
       "      <td>[4.863, 5.549]</td>\n",
       "      <td>[4.855, 5.543]</td>\n",
       "    </tr>\n",
       "    <tr>\n",
       "      <th>4</th>\n",
       "      <td>0.010</td>\n",
       "      <td>[4.81, 5.602]</td>\n",
       "      <td>[4.817, 5.597]</td>\n",
       "    </tr>\n",
       "  </tbody>\n",
       "</table>\n",
       "</div>"
      ],
      "text/plain": [
       "   alpha         Student       Bootstrap\n",
       "0  0.100  [4.956, 5.456]  [4.957, 5.449]\n",
       "1  0.075  [4.935, 5.477]  [4.937, 5.475]\n",
       "2  0.050  [4.907, 5.505]   [4.91, 5.488]\n",
       "3  0.025  [4.863, 5.549]  [4.855, 5.543]\n",
       "4  0.010   [4.81, 5.602]  [4.817, 5.597]"
      ]
     },
     "execution_count": 6,
     "metadata": {},
     "output_type": "execute_result"
    }
   ],
   "source": [
    "res = defaultdict(list)\n",
    "res[\"alpha\"] = alpha_list\n",
    "res[\"Student\"] = [np.round(student_mci(X, alpha), 3) for alpha in alpha_list]\n",
    "res[\"Bootstrap\"] = [np.round(bootstrap_mci(X, alpha), 3) for alpha in alpha_list]\n",
    "res = pd.DataFrame(res)\n",
    "res"
   ]
  },
  {
   "cell_type": "markdown",
   "metadata": {},
   "source": [
    "**Выводы:** Результаты полученные при помощи t-теста Стьюдента и Bootstrap'а практически совпадают в силу того, что при Bootstrap'е мы получаем практически нормальное распределение."
   ]
  },
  {
   "cell_type": "markdown",
   "metadata": {},
   "source": [
    "### Задача 2"
   ]
  },
  {
   "cell_type": "markdown",
   "metadata": {},
   "source": [
    "Два предприятия выпускают  изделия одного и того же назначения. Предприятие I выпускает изделия с математическим ожиданием срока службы $T_1$, предприятие II выпускает изделия с математическим ожиданием срока службы $T_2$. Сроки службы изделий обоих предприятий распределены нормально и стандартные отклонения для них равны $\\sigma_1$ и $\\sigma_2$ соответственно. При этом $T_1 < T_2$, но изделия второго предприятия дороже."
   ]
  },
  {
   "cell_type": "code",
   "execution_count": 7,
   "metadata": {},
   "outputs": [
    {
     "data": {
      "image/png": "[encoded data removed]",
      "text/plain": [
       "<Figure size 432x288 with 1 Axes>"
      ]
     },
     "metadata": {
      "needs_background": "light"
     },
     "output_type": "display_data"
    }
   ],
   "source": [
    "T1, T2, sigma1, sigma2 = 10, 16, 2, 3\n",
    "\n",
    "def plot_T(T, sigma, c, label):\n",
    "    norm = sp.stats.norm(loc=T, scale=sigma)\n",
    "    x = np.linspace(norm.ppf(0.01), norm.ppf(0.99), 1000)\n",
    "    plt.plot(x, norm.pdf(x), c=c)\n",
    "    plt.vlines(T, *plt.ylim(), linestyles='--', colors=c, label=label)\n",
    "    \n",
    "plot_T(T1, sigma1, 'b', 'T1')\n",
    "plot_T(T2, sigma2, 'r', 'T2')\n",
    "plt.legend()\n",
    "plt.show()"
   ]
  },
  {
   "cell_type": "markdown",
   "metadata": {},
   "source": [
    "Третье предприятие утверждает, что ему удалось разработать технологию производства изделий со средним сроком службы  предприятия II, но по цене предприятия I. В качестве доказательства предлагаются результаты тестирования для $k$ изделий. \n",
    "\n",
    "Нулевая гипотеза $H_0$ предполагает, что на самом деле срок службы изделий предприятия III имеет распределение, совпадающее с распределением срока службы изделий предприятия I. Альтернативная гипотеза $H_1$ предполагает, что срок службы изделий предприятия III имеет распределение, совпадающее с распределением срока службы изделий предприятия II. Проверка этих двух предположений производится путем сравнения эмпирически оцененного среднего срока службы протестированных изделий предприятия III с некоторым порогом $T$. Конкретное значение $T$ находится из условия того, что допустимая ошибка первого рода равна $\\alpha$. Значение ошибки второго рода обозначим через $\\beta = \\beta(\\alpha, k)$.\n",
    "\n",
    "Постройте график мощности такого теста в зависимости от $k$ и сделайте выводы."
   ]
  },
  {
   "cell_type": "code",
   "execution_count": 8,
   "metadata": {},
   "outputs": [
    {
     "data": {
      "image/png": "[encoded data removed]",
      "text/plain": [
       "<Figure size 432x288 with 1 Axes>"
      ]
     },
     "metadata": {
      "needs_background": "light"
     },
     "output_type": "display_data"
    }
   ],
   "source": [
    "def get_power(u1, s1, u2, s2, alpha=0.05, k=1):\n",
    "    s1 /= np.sqrt(k)\n",
    "    s2 /= np.sqrt(k)\n",
    "    q = sp.stats.norm(u1, s1).ppf(1 - alpha)\n",
    "    return 1 - sp.stats.norm(u2, s2).cdf(q)\n",
    "\n",
    "X = np.arange(1, 10)\n",
    "Y = np.array([get_power(T1, sigma1, T2, sigma2, k=x) for x in X])\n",
    "plt.plot(X, Y)\n",
    "plt.title('power by $k$')\n",
    "plt.xlabel('$k$')\n",
    "plt.ylabel('power')\n",
    "plt.show()"
   ]
  },
  {
   "cell_type": "markdown",
   "metadata": {},
   "source": [
    "**Выводы:** При увеличении размера выборки $k$ мощность статистического критерия растёт, а вероятность ошибки второго рода уменьшается. Достаточно $k = 5$ для проведения теста."
   ]
  },
  {
   "cell_type": "markdown",
   "metadata": {},
   "source": [
    "### Задача 3"
   ]
  },
  {
   "cell_type": "markdown",
   "metadata": {},
   "source": [
    "В 5 серии 13 сезона передачи “Разрушители легенд” проверялась справедливость выражения “know something like the back of one’s hand”. В эксперименте принимало участие 12 испытуемых. Каждому из них были предъявлены 10 фотографий похожих рук разных людей, среди которых они должны были угадать свою.\n",
    "11 из 12 испытуемых выбрали свою фотографию.\n",
    "\\($H_0$\\): испытуемые выбирают фотографии тыльной стороны руки наугад (\\($p$=0.1\\)).\n",
    "\\($H_1$\\): испытуемые выбирают фотографию тыльной стороны своей собственной руки осознанно (\\($p>0.1$\\)).\n",
    "\n",
    "\n",
    "Воспользуйтесь точным биномиальным критерием для проверки (H_0) против альтернативы (H_1). Для этого:\n",
    "\n",
    "\t• Постройте нулевое распределение статистики числа успехов в выборке распределения Бернулли с параметром p. Сформируйте выборку сами напрямую из условия задачи.\n",
    "\t• Напишите функцию, которая принимала бы на вход тройку чисел (np,nq,p0), где np – число успехов, nq – число неудач в выборке размера np + nq, p0 – значение параметра p, задающего нулевую гипотезу. Ваша функция должна возвращать значение достигаемого уровня значимости против правосторонней альтернативы.\n",
    "\t• Визуально сравните поведение значения, выдаваемые вашей функцией со стандартным тестом\n",
    "    scipy.stats.binom_test(·)\n",
    "\t• Отвергается ли гипотеза (H_0) на достигаемом уровне значимости 0.05? p-value?"
   ]
  },
  {
   "cell_type": "markdown",
   "metadata": {},
   "source": [
    "#### Нулевое распределение"
   ]
  },
  {
   "cell_type": "code",
   "execution_count": 9,
   "metadata": {},
   "outputs": [
    {
     "data": {
      "image/png": "[encoded data removed]",
      "text/plain": [
       "<Figure size 432x288 with 1 Axes>"
      ]
     },
     "metadata": {
      "needs_background": "light"
     },
     "output_type": "display_data"
    }
   ],
   "source": [
    "def C(n, k):\n",
    "    if k < 0 or k > n:\n",
    "        raise ValueError(f\"'k' must be in range [0; {n}]. Actual: {k}\")\n",
    "    if k > n - k:\n",
    "        k = n - k\n",
    "    val = 1\n",
    "    for i in range(k):\n",
    "        val *= n - i\n",
    "        val //= i + 1\n",
    "    return val\n",
    "\n",
    "def generate_bernoulli(n, p):\n",
    "    support = np.arange(n + 1)\n",
    "    probs = np.array([C(n, x) * (p ** x) * ((1 - p) ** (n - x)) for x in support])\n",
    "    return support, probs\n",
    "\n",
    "n = 12\n",
    "p = 0.1\n",
    "dist = sp.stats.binom(n, p)\n",
    "support, probs = generate_bernoulli(n, p)\n",
    "sns.barplot(support, probs)\n",
    "plt.show()"
   ]
  },
  {
   "cell_type": "markdown",
   "metadata": {},
   "source": [
    "#### Выборка"
   ]
  },
  {
   "cell_type": "code",
   "execution_count": 10,
   "metadata": {},
   "outputs": [
    {
     "data": {
      "text/plain": [
       "array([1, 1, 1, 1, 1, 1, 0, 1, 1, 1, 1, 1])"
      ]
     },
     "execution_count": 10,
     "metadata": {},
     "output_type": "execute_result"
    }
   ],
   "source": [
    "def generate_data(n, good):\n",
    "    data = np.zeros(n, np.int)\n",
    "    idx = np.random.permutation(n)[:good]\n",
    "    data[idx] = 1\n",
    "    return data\n",
    "\n",
    "good = 11\n",
    "X = generate_data(n, good)\n",
    "X"
   ]
  },
  {
   "cell_type": "markdown",
   "metadata": {},
   "source": [
    "#### pvalue"
   ]
  },
  {
   "cell_type": "code",
   "execution_count": 11,
   "metadata": {},
   "outputs": [
    {
     "data": {
      "text/plain": [
       "1.0900000000000006e-10"
      ]
     },
     "execution_count": 11,
     "metadata": {},
     "output_type": "execute_result"
    }
   ],
   "source": [
    "def get_pvalue(good, bad, p0):\n",
    "    n = good + bad\n",
    "    support, probs = generate_bernoulli(n, p0)\n",
    "    mask = support >= good\n",
    "    return probs[mask].sum()\n",
    "\n",
    "p0 = 0.1\n",
    "get_pvalue(sum(X), len(X) - sum(X), p0)"
   ]
  },
  {
   "cell_type": "markdown",
   "metadata": {},
   "source": [
    "#### Визуальное сравнение"
   ]
  },
  {
   "cell_type": "code",
   "execution_count": 12,
   "metadata": {},
   "outputs": [
    {
     "data": {
      "image/png": "[encoded data removed]",
      "text/plain": [
       "<Figure size 432x288 with 1 Axes>"
      ]
     },
     "metadata": {
      "needs_background": "light"
     },
     "output_type": "display_data"
    }
   ],
   "source": [
    "p = np.linspace(0, 1, 100)\n",
    "\n",
    "bin_test = [sp.stats.binom_test(sum(X), n=len(X), p=x, alternative='greater') for x in p]\n",
    "my_test = [get_pvalue(sum(X), len(X) - sum(X), x) for x in p]\n",
    "\n",
    "sns.lineplot(p, my_test, label='my_test')\n",
    "sns.lineplot(p, bin_test, label='bin_test')\n",
    "plt.title(f\"pvalue by p (n = {n}, np = {sum(X)})\")\n",
    "plt.xlabel(\"p\")\n",
    "plt.ylabel(\"pvalue\")\n",
    "plt.legend()\n",
    "plt.show()"
   ]
  },
  {
   "cell_type": "code",
   "execution_count": 13,
   "metadata": {},
   "outputs": [
    {
     "data": {
      "image/png": "[encoded data removed]",
      "text/plain": [
       "<Figure size 432x288 with 1 Axes>"
      ]
     },
     "metadata": {
      "needs_background": "light"
     },
     "output_type": "display_data"
    }
   ],
   "source": [
    "support = np.arange(n + 1)\n",
    "bin_test = [sp.stats.binom_test(x, n=n, p=p0, alternative='greater') for x in support]\n",
    "my_test = [get_pvalue(x, n - x, p0) for x in support]\n",
    "\n",
    "sns.lineplot(support, my_test, label='my_test')\n",
    "sns.lineplot(support, bin_test, label='bin_test')\n",
    "plt.title(f\"pvalue by np (n = {n}, p = {p0})\")\n",
    "plt.xlabel(\"np\")\n",
    "plt.ylabel(\"pvalue\")\n",
    "plt.legend()\n",
    "plt.show()"
   ]
  },
  {
   "cell_type": "markdown",
   "metadata": {},
   "source": [
    "Результаты визуального анализа показывают, что результаты функции должны совпадать или по крайней мере быть очень близкими."
   ]
  },
  {
   "cell_type": "markdown",
   "metadata": {},
   "source": [
    "#### binom_test для задачи и мой pvalue"
   ]
  },
  {
   "cell_type": "code",
   "execution_count": 14,
   "metadata": {},
   "outputs": [
    {
     "data": {
      "text/plain": [
       "1.0900000000000006e-10"
      ]
     },
     "execution_count": 14,
     "metadata": {},
     "output_type": "execute_result"
    }
   ],
   "source": [
    "sp.stats.binom_test(sum(X), n=len(X), p=p0, alternative='greater')"
   ]
  },
  {
   "cell_type": "code",
   "execution_count": 15,
   "metadata": {},
   "outputs": [
    {
     "data": {
      "text/plain": [
       "1.0900000000000006e-10"
      ]
     },
     "execution_count": 15,
     "metadata": {},
     "output_type": "execute_result"
    }
   ],
   "source": [
    "get_pvalue(sum(X), len(X) - sum(X), p0)"
   ]
  },
  {
   "cell_type": "markdown",
   "metadata": {},
   "source": [
    "Гипотеза $H_0$ отвергается при уровне значимости 0.05. pvalue = $1.09 \\times 10^{-10}$."
   ]
  },
  {
   "cell_type": "markdown",
   "metadata": {},
   "source": [
    "**Выводы:** Изначально было понятно, что для вероятности $p=0.1$ получить для 12 испытаний 11 успешных практически невозможно. Статистический тест это подтверждает. Таким образом мы отвергаем гипотезу $H_0$ при уровне значимости 0.05, причём отвергли бы её и при уровне значимости 0.01, и при 0.001, и даже при $10^{-9}$, т.к. pvalue показывает минимальный уровень значимости, при котором мы бы отвергли гипотезу, а pvalue = $1.09 \\times 10^{-10}$. Вычисленные  значения pvalue совпадают с полученными из библиотеки `scipy.stats`, что говорит о правильной имплетанции функций."
   ]
  },
  {
   "cell_type": "markdown",
   "metadata": {},
   "source": [
    "### Задача 4"
   ]
  },
  {
   "cell_type": "markdown",
   "metadata": {},
   "source": [
    "24 умственно отсталых ребёнка с СДВГ в течение недели принимали либо метилфенидат, либо плацебо, а в конце недели проходили тест на способность к подавлению импульсивных поведенческих реакций. На втором этапе плацебо и препарат менялись, после недельного курса каждый испытуемые проходили второй тест.\n",
    "Каков эффект препарата?"
   ]
  },
  {
   "cell_type": "code",
   "execution_count": 16,
   "metadata": {},
   "outputs": [
    {
     "data": {
      "text/html": [
       "<div>\n",
       "<style scoped>\n",
       "    .dataframe tbody tr th:only-of-type {\n",
       "        vertical-align: middle;\n",
       "    }\n",
       "\n",
       "    .dataframe tbody tr th {\n",
       "        vertical-align: top;\n",
       "    }\n",
       "\n",
       "    .dataframe thead th {\n",
       "        text-align: right;\n",
       "    }\n",
       "</style>\n",
       "<table border=\"1\" class=\"dataframe\">\n",
       "  <thead>\n",
       "    <tr style=\"text-align: right;\">\n",
       "      <th></th>\n",
       "      <th>D0</th>\n",
       "      <th>D60</th>\n",
       "    </tr>\n",
       "  </thead>\n",
       "  <tbody>\n",
       "    <tr>\n",
       "      <th>8</th>\n",
       "      <td>34</td>\n",
       "      <td>45</td>\n",
       "    </tr>\n",
       "    <tr>\n",
       "      <th>20</th>\n",
       "      <td>34</td>\n",
       "      <td>35</td>\n",
       "    </tr>\n",
       "    <tr>\n",
       "      <th>9</th>\n",
       "      <td>53</td>\n",
       "      <td>42</td>\n",
       "    </tr>\n",
       "    <tr>\n",
       "      <th>14</th>\n",
       "      <td>36</td>\n",
       "      <td>35</td>\n",
       "    </tr>\n",
       "    <tr>\n",
       "      <th>4</th>\n",
       "      <td>34</td>\n",
       "      <td>38</td>\n",
       "    </tr>\n",
       "  </tbody>\n",
       "</table>\n",
       "</div>"
      ],
      "text/plain": [
       "    D0  D60\n",
       "8   34   45\n",
       "20  34   35\n",
       "9   53   42\n",
       "14  36   35\n",
       "4   34   38"
      ]
     },
     "execution_count": 16,
     "metadata": {},
     "output_type": "execute_result"
    }
   ],
   "source": [
    "adhd = pd.read_csv(\"ADHD.txt\", sep=' ')\n",
    "adhd.sample(5)"
   ]
  },
  {
   "cell_type": "markdown",
   "metadata": {},
   "source": [
    "Чтобы использовать $t$-критерий Стьюдента для связанных выборок, необходимо проверить, нет ли существенных отклонений от нормальности попарных разностей. Для этого воспользуйтесь визуальной проверкой нормальности (функция `qqplot` из `statsmodels`), a также библиотечным тестом проверки нормальности: `scipy.stats.shapiro`"
   ]
  },
  {
   "cell_type": "code",
   "execution_count": 17,
   "metadata": {},
   "outputs": [
    {
     "data": {
      "image/png": "[encoded data removed]",
      "text/plain": [
       "<Figure size 432x288 with 1 Axes>"
      ]
     },
     "metadata": {
      "needs_background": "light"
     },
     "output_type": "display_data"
    }
   ],
   "source": [
    "from statsmodels.graphics.gofplots import qqplot\n",
    "\n",
    "qqplot(adhd['D60'] - adhd['D0'], line='s', fit=True)\n",
    "plt.show()"
   ]
  },
  {
   "cell_type": "code",
   "execution_count": 18,
   "metadata": {},
   "outputs": [
    {
     "data": {
      "text/plain": [
       "(0.9798055291175842, 0.8922544717788696)"
      ]
     },
     "execution_count": 18,
     "metadata": {},
     "output_type": "execute_result"
    }
   ],
   "source": [
    "sp.stats.shapiro(adhd['D60'] - adhd['D0'])"
   ]
  },
  {
   "cell_type": "markdown",
   "metadata": {},
   "source": [
    "Примените $t$-критерий Стьюдента `scipy.stats.ttest_rel` для связанных выборок."
   ]
  },
  {
   "cell_type": "code",
   "execution_count": 19,
   "metadata": {},
   "outputs": [
    {
     "data": {
      "text/plain": [
       "Ttest_relResult(statistic=-3.2223624451230406, pvalue=0.003771488176381471)"
      ]
     },
     "execution_count": 19,
     "metadata": {},
     "output_type": "execute_result"
    }
   ],
   "source": [
    "sp.stats.ttest_rel(adhd['D0'], adhd['D60'])"
   ]
  },
  {
   "cell_type": "markdown",
   "metadata": {},
   "source": [
    "Если бы у нас не было информации о связях между выборками, пришлось бы применять версию критерия Стьюдента для независимых выборок `scipy.stats.ttest_ind`. Сравните результаты применения критерия Стьюдента к этим данным, если считать выборки связанными и не связанными. В каком из этих случаев уровень достигаемой значимости меньше? Как вы думаете почему?"
   ]
  },
  {
   "cell_type": "code",
   "execution_count": 20,
   "metadata": {},
   "outputs": [
    {
     "data": {
      "text/plain": [
       "Ttest_indResult(statistic=-1.452163501815909, pvalue=0.1532433046938409)"
      ]
     },
     "execution_count": 20,
     "metadata": {},
     "output_type": "execute_result"
    }
   ],
   "source": [
    "sp.stats.ttest_ind(adhd['D0'], adhd['D60'])"
   ]
  },
  {
   "cell_type": "markdown",
   "metadata": {},
   "source": [
    "**Выводы:** Попарные разности распределены нормально. Применяя $t$-критерий Стьюдента для связанных выборок мы получаем крайне низкий pvalue (в районе $3 \\times 10^{-3}$), что говорит о том, что лекарство имеет реальный эффект. Отметим, что в случае использования независимых выборок pvalue намного выше (в районе $15\\%$). Это связано с тем, что в случае связанных выборок, мы дополнительно получаем информацию о том, что некоторый ребёнок, который выполнял тест ниже среднего в обоих случаях улучшил свой результат. В случае несвязанных выборок мы воспринимаем два этих результата, как результаты двух различных детей, написавших тест ниже среднего. В такой ситуации могла бы происходить ситуация, что ребёнок, принимавший лекарство, изначально писал его немного лучше, чем ребёнок, не принимавший его, что заставляет нас делать дополнительную поправку в pvalue и быть менее уверенными в том, что лекарство реально работает."
   ]
  },
  {
   "cell_type": "markdown",
   "metadata": {},
   "source": [
    "### Задача 5"
   ]
  },
  {
   "cell_type": "markdown",
   "metadata": {},
   "source": [
    "Задана выборка $Y$ результатов распознавания для некоторой задачи классификации."
   ]
  },
  {
   "cell_type": "code",
   "execution_count": 21,
   "metadata": {},
   "outputs": [
    {
     "data": {
      "image/png": "[encoded data removed]",
      "text/plain": [
       "<Figure size 432x288 with 1 Axes>"
      ]
     },
     "metadata": {
      "needs_background": "light"
     },
     "output_type": "display_data"
    }
   ],
   "source": [
    "Y = pd.read_excel(\"t2_data.xlsx\").values.ravel()\n",
    "\n",
    "plt.plot(np.arange(Y.size)[Y == 1], np.count_nonzero(Y == 1) * [1], 'r+', label='Y = 1')\n",
    "plt.plot(np.arange(Y.size)[Y == 0], np.count_nonzero(Y == 0) * [0], 'b.', label='Y = 0')\n",
    "plt.legend()\n",
    "plt.show()"
   ]
  },
  {
   "cell_type": "markdown",
   "metadata": {},
   "source": [
    "Оцените доверительный интервал для показателя *ACCURACY* с использованием..."
   ]
  },
  {
   "cell_type": "markdown",
   "metadata": {},
   "source": [
    "Метода Клоппера-Пирсона (с использованием аппроксимации через __бета__ распределение).\n",
    "\n",
    "    http://en.wikipedia.org/wiki/Binomial_proportion_confidence_interval\n",
    "    alpha confidence intervals for a binomial distribution of k expected successes on n trials"
   ]
  },
  {
   "cell_type": "code",
   "execution_count": 22,
   "metadata": {},
   "outputs": [],
   "source": [
    "def bin_clopper_pearson(data, alpha=0.05):\n",
    "    success = sum(data)\n",
    "    fail = len(data) - success\n",
    "    p = alpha / 2\n",
    "    low = sp.stats.beta.ppf(p, success, fail + 1)\n",
    "    high = sp.stats.beta.ppf(1 - p, success + 1, fail)\n",
    "    return low, high"
   ]
  },
  {
   "cell_type": "markdown",
   "metadata": {},
   "source": [
    "А также с помощью __нормальной__ аппроксимации"
   ]
  },
  {
   "cell_type": "code",
   "execution_count": 23,
   "metadata": {},
   "outputs": [],
   "source": [
    "def bin_normal_approx(data, alpha=0.05):\n",
    "    p = sum(data) / len(data)\n",
    "    inc = np.sqrt(p * (1 - p) / len(data)) * sp.stats.norm.ppf(1 - alpha / 2)\n",
    "    return p - inc, p + inc"
   ]
  },
  {
   "cell_type": "markdown",
   "metadata": {},
   "source": [
    "Сравните результаты и сделайте выводы."
   ]
  },
  {
   "cell_type": "code",
   "execution_count": 24,
   "metadata": {},
   "outputs": [
    {
     "data": {
      "text/html": [
       "<div>\n",
       "<style scoped>\n",
       "    .dataframe tbody tr th:only-of-type {\n",
       "        vertical-align: middle;\n",
       "    }\n",
       "\n",
       "    .dataframe tbody tr th {\n",
       "        vertical-align: top;\n",
       "    }\n",
       "\n",
       "    .dataframe thead th {\n",
       "        text-align: right;\n",
       "    }\n",
       "</style>\n",
       "<table border=\"1\" class=\"dataframe\">\n",
       "  <thead>\n",
       "    <tr style=\"text-align: right;\">\n",
       "      <th></th>\n",
       "      <th>alpha</th>\n",
       "      <th>Clopper-Pearson</th>\n",
       "      <th>Normal</th>\n",
       "    </tr>\n",
       "  </thead>\n",
       "  <tbody>\n",
       "    <tr>\n",
       "      <th>0</th>\n",
       "      <td>0.100</td>\n",
       "      <td>[0.515, 0.726]</td>\n",
       "      <td>[0.525, 0.725]</td>\n",
       "    </tr>\n",
       "    <tr>\n",
       "      <th>1</th>\n",
       "      <td>0.075</td>\n",
       "      <td>[0.506, 0.733]</td>\n",
       "      <td>[0.517, 0.733]</td>\n",
       "    </tr>\n",
       "    <tr>\n",
       "      <th>2</th>\n",
       "      <td>0.050</td>\n",
       "      <td>[0.495, 0.743]</td>\n",
       "      <td>[0.506, 0.744]</td>\n",
       "    </tr>\n",
       "    <tr>\n",
       "      <th>3</th>\n",
       "      <td>0.025</td>\n",
       "      <td>[0.478, 0.757]</td>\n",
       "      <td>[0.489, 0.761]</td>\n",
       "    </tr>\n",
       "    <tr>\n",
       "      <th>4</th>\n",
       "      <td>0.010</td>\n",
       "      <td>[0.457, 0.774]</td>\n",
       "      <td>[0.469, 0.781]</td>\n",
       "    </tr>\n",
       "  </tbody>\n",
       "</table>\n",
       "</div>"
      ],
      "text/plain": [
       "   alpha Clopper-Pearson          Normal\n",
       "0  0.100  [0.515, 0.726]  [0.525, 0.725]\n",
       "1  0.075  [0.506, 0.733]  [0.517, 0.733]\n",
       "2  0.050  [0.495, 0.743]  [0.506, 0.744]\n",
       "3  0.025  [0.478, 0.757]  [0.489, 0.761]\n",
       "4  0.010  [0.457, 0.774]  [0.469, 0.781]"
      ]
     },
     "execution_count": 24,
     "metadata": {},
     "output_type": "execute_result"
    }
   ],
   "source": [
    "res = defaultdict(list)\n",
    "res[\"alpha\"] = alpha_list\n",
    "res[\"Clopper-Pearson\"] = [np.round(bin_clopper_pearson(Y, alpha), 3) for alpha in alpha_list]\n",
    "res[\"Normal\"] = [np.round(bin_normal_approx(Y, alpha), 3) for alpha in alpha_list]\n",
    "res = pd.DataFrame(res)\n",
    "res"
   ]
  },
  {
   "cell_type": "markdown",
   "metadata": {},
   "source": [
    "Также сравните ваши реализованные метод с библиотечными: `statsmodels.stats.proportion.proportion_confint`, в вариантах  `proportion_confint(k, n, alpha, 'beta')` и `proportion_confint(k, n, alpha, 'normal')`"
   ]
  },
  {
   "cell_type": "code",
   "execution_count": 25,
   "metadata": {},
   "outputs": [
    {
     "data": {
      "text/html": [
       "<div>\n",
       "<style scoped>\n",
       "    .dataframe tbody tr th:only-of-type {\n",
       "        vertical-align: middle;\n",
       "    }\n",
       "\n",
       "    .dataframe tbody tr th {\n",
       "        vertical-align: top;\n",
       "    }\n",
       "\n",
       "    .dataframe thead th {\n",
       "        text-align: right;\n",
       "    }\n",
       "</style>\n",
       "<table border=\"1\" class=\"dataframe\">\n",
       "  <thead>\n",
       "    <tr style=\"text-align: right;\">\n",
       "      <th></th>\n",
       "      <th>alpha</th>\n",
       "      <th>Clopper-Pearson</th>\n",
       "      <th>Normal</th>\n",
       "      <th>Correct-Cl-P</th>\n",
       "      <th>Correct-Normal</th>\n",
       "    </tr>\n",
       "  </thead>\n",
       "  <tbody>\n",
       "    <tr>\n",
       "      <th>0</th>\n",
       "      <td>0.100</td>\n",
       "      <td>[0.515, 0.726]</td>\n",
       "      <td>[0.525, 0.725]</td>\n",
       "      <td>[0.515, 0.726]</td>\n",
       "      <td>[0.525, 0.725]</td>\n",
       "    </tr>\n",
       "    <tr>\n",
       "      <th>1</th>\n",
       "      <td>0.075</td>\n",
       "      <td>[0.506, 0.733]</td>\n",
       "      <td>[0.517, 0.733]</td>\n",
       "      <td>[0.506, 0.733]</td>\n",
       "      <td>[0.517, 0.733]</td>\n",
       "    </tr>\n",
       "    <tr>\n",
       "      <th>2</th>\n",
       "      <td>0.050</td>\n",
       "      <td>[0.495, 0.743]</td>\n",
       "      <td>[0.506, 0.744]</td>\n",
       "      <td>[0.495, 0.743]</td>\n",
       "      <td>[0.506, 0.744]</td>\n",
       "    </tr>\n",
       "    <tr>\n",
       "      <th>3</th>\n",
       "      <td>0.025</td>\n",
       "      <td>[0.478, 0.757]</td>\n",
       "      <td>[0.489, 0.761]</td>\n",
       "      <td>[0.478, 0.757]</td>\n",
       "      <td>[0.489, 0.761]</td>\n",
       "    </tr>\n",
       "    <tr>\n",
       "      <th>4</th>\n",
       "      <td>0.010</td>\n",
       "      <td>[0.457, 0.774]</td>\n",
       "      <td>[0.469, 0.781]</td>\n",
       "      <td>[0.457, 0.774]</td>\n",
       "      <td>[0.469, 0.781]</td>\n",
       "    </tr>\n",
       "  </tbody>\n",
       "</table>\n",
       "</div>"
      ],
      "text/plain": [
       "   alpha Clopper-Pearson          Normal    Correct-Cl-P  Correct-Normal\n",
       "0  0.100  [0.515, 0.726]  [0.525, 0.725]  [0.515, 0.726]  [0.525, 0.725]\n",
       "1  0.075  [0.506, 0.733]  [0.517, 0.733]  [0.506, 0.733]  [0.517, 0.733]\n",
       "2  0.050  [0.495, 0.743]  [0.506, 0.744]  [0.495, 0.743]  [0.506, 0.744]\n",
       "3  0.025  [0.478, 0.757]  [0.489, 0.761]  [0.478, 0.757]  [0.489, 0.761]\n",
       "4  0.010  [0.457, 0.774]  [0.469, 0.781]  [0.457, 0.774]  [0.469, 0.781]"
      ]
     },
     "execution_count": 25,
     "metadata": {},
     "output_type": "execute_result"
    }
   ],
   "source": [
    "res['Correct-Cl-P'] = [np.round(proportion_confint(sum(Y), len(Y), alpha, 'beta'), 3) for alpha in alpha_list]\n",
    "res['Correct-Normal'] = [np.round(proportion_confint(sum(Y), len(Y), alpha, 'normal'), 3) for alpha in alpha_list]\n",
    "res"
   ]
  },
  {
   "cell_type": "markdown",
   "metadata": {},
   "source": [
    "**Выводы:** Доверительные интервалы, полученные обоими аппроксимациями, примерно одинаковы."
   ]
  }
 ],
 "metadata": {
  "kernelspec": {
   "display_name": "Python 3",
   "language": "python",
   "name": "python3"
  },
  "language_info": {
   "codemirror_mode": {
    "name": "ipython",
    "version": 3
   },
   "file_extension": ".py",
   "mimetype": "text/x-python",
   "name": "python",
   "nbconvert_exporter": "python",
   "pygments_lexer": "ipython3",
   "version": "3.7.7"
  }
 },
 "nbformat": 4,
 "nbformat_minor": 2
}
