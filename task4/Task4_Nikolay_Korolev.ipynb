{
 "cells": [
  {
   "cell_type": "markdown",
   "metadata": {},
   "source": [
    "## Здравствуйте, меня зовут *Николай Королев*, вот моё Задание №4 по курсу ПСАД-2020!"
   ]
  },
  {
   "cell_type": "code",
   "execution_count": 1,
   "metadata": {},
   "outputs": [],
   "source": [
    "import pandas as pd\n",
    "import numpy as np\n",
    "import scipy as sp\n",
    "import seaborn as sns\n",
    "from collections import defaultdict\n",
    "from matplotlib import pyplot as plt\n",
    "\n",
    "from math import sqrt, factorial\n",
    "from itertools import chain, permutations\n",
    "from random import shuffle\n",
    "\n",
    "\n",
    "import seaborn as sns\n",
    "sns.set()\n",
    "\n",
    "np.random.seed(228)\n",
    "\n",
    "%matplotlib inline\n",
    "# %config InlineBackend.figure_format = 'svg' "
   ]
  },
  {
   "cell_type": "markdown",
   "metadata": {},
   "source": [
    "## Задача 1  "
   ]
  },
  {
   "cell_type": "markdown",
   "metadata": {},
   "source": [
    "Задана обучающая выборка $\\widetilde{S}$ размера $n \\times 2$, включающая значения переменных $X$ и $Y$."
   ]
  },
  {
   "cell_type": "code",
   "execution_count": 2,
   "metadata": {},
   "outputs": [],
   "source": [
    "from scipy.stats import linregress\n",
    "\n",
    "def draw_linear(x, y, x_name='X', y_name='Y'):\n",
    "    \"Scatter x-y points and draw a LR line.\"\n",
    "    slope, intercept, r, _, _ = linregress(x, y)\n",
    "    x_max, x_min = x.max(), x.min()\n",
    "    x_range = x_max - x_min\n",
    "    x_lims = np.array([x_min - 0.1 * x_range, x_max + 0.1 * x_range])\n",
    "    plt.xlabel(x_name)\n",
    "    plt.ylabel(y_name)\n",
    "    plt.plot(x, y, 'g+', label='Objects')\n",
    "    plt.plot(x_lims, intercept + slope * x_lims, 'r--', label=r\"LR line with $\\rho \\approx {:.3f}$\".format(r))\n",
    "    plt.legend()\n",
    "    plt.show()"
   ]
  },
  {
   "cell_type": "code",
   "execution_count": 3,
   "metadata": {},
   "outputs": [
    {
     "data": {
      "image/png": "[encoded data removed]",
      "text/plain": [
       "<Figure size 432x288 with 1 Axes>"
      ]
     },
     "metadata": {
      "needs_background": "light"
     },
     "output_type": "display_data"
    }
   ],
   "source": [
    "S = np.load(\"data1.npy\")\n",
    "X, Y = S\n",
    "draw_linear(X, Y)"
   ]
  },
  {
   "cell_type": "markdown",
   "metadata": {},
   "source": [
    "* Оцените значимость коэффициента корреляции с помощью трёх тестов: критерия Стюдента, перестановочного теста и бутстреп-критерия. Под значимостью коэффициента в данном случае понимается его значимое отличие от нуля.\n",
    "\n",
    "* Постройте графики нулевых распределений перестановочного и t-теста, а также распределение статистики бутстреп-теста. Попробуйте использовать функции `sns.lineplot, sns.distplot`. Для параметрического распределения носитель нужно определять самому, а для непараметрического можно рисовать гистограмму по данным как есть.\n",
    "\n",
    "* Сравните полученные результаты и напишите выводы."
   ]
  },
  {
   "cell_type": "markdown",
   "metadata": {},
   "source": [
    "### Критерий Стьюдента\n",
    "\n",
    "Проведите **двусторонний t-тест** для нулевой гипотезы о равенстве корреляции нулю. Для этого воспользуйтесь центральной предельной теоремой, приведя статистику к стандартизованной форме распределения Стьюдента . Полученное распределение $St(n - 2)$ будет **распределением нулевой гипотезы** $H_0$, а посчитанная статистика $T(X, Y)$ -- **его квантилью**. Достигаемый уровень значимости -- это вероятностная масса нулевого распределения, на которой суммарно получилось такое же или ещё более экстремальное значение статистики. В случае двустороннего теста заранее не известно, по какую сторону от нуля будет значение статистики, поэтому учитываются оба варианта."
   ]
  },
  {
   "cell_type": "code",
   "execution_count": 4,
   "metadata": {},
   "outputs": [],
   "source": [
    "def student_significance(X, Y):\n",
    "    # Your code goes here...\n",
    "    return p_val"
   ]
  },
  {
   "cell_type": "markdown",
   "metadata": {},
   "source": [
    "### Перестановочный тест\n",
    "\n",
    "Проведите **двусторонний перестановочный тест** для нулевой гипотезы о равенстве корреляции нулю. Нулевое распределение порождается перебором $n!$ перестановок индексов одной из выборок. Достигаемый уровень значимости -- доля перестановок, на которых получилось такое же или ещё более экстремальное значение статистики. Перебор всех перестановок может быть очень большим, поэтому ограничиваются случайным подмножеством перестановок. В силу симметрии распределения, двусторонний тест учитывает абсолютное значение статистики. \n",
    "\n",
    "**Замечание**. Похоже, это очень непросто для создателей библиотек реализовать функцию перестановки, чтобы она возвращала _случайное подмножество_ перестановок. Функция `itertools.permutations` возвращает все возможные _упорядоченные_ перестановки, причём их невозможно перемешать или взять подвыборку, не раскрывая генератор. Функция `np.random.permutation` выполняет одну случайную перестановку, вот её как раз и можно записать в цикле."
   ]
  },
  {
   "cell_type": "code",
   "execution_count": 5,
   "metadata": {},
   "outputs": [],
   "source": [
    "def permutation_test_significance(X, Y, n_permutations=100000):\n",
    "    # Your code goes here...\n",
    "    return perm_distr, p_val"
   ]
  },
  {
   "cell_type": "markdown",
   "metadata": {},
   "source": [
    "### Бутстреп\n",
    "\n",
    "Примените **двусторонний бутстреп-тест** о равенстве корреляции нулю. В бутстреп-тесте не строится распределение нулевой гипотезы, а вместо этого напрямую строится приближённое **распределение исследуемой статистики**. В оценке корреляции участвуют две выборки $X, Y$, поэтому для создания на их основе псевдовыборок методом Монте-Карло, мы сэмплируем с возвращением пары $(X_i, Y_i)$ и, считая корреляцию внутри каждой псевдовыборки, получаем бутстреп-распределение корреляции. \n",
    "\n",
    "Дальше по вычисленному бутстреп-распределению статистики нужно оценить **достигаемый уровень значимости (_p-value_)** критерия. Сначала построим два односторонних критерия. В них достигаемый уровень значимости -- это доля псевдовыборок, на которых корреляция меньше либо равно нулю (больше либо равна нулю). Дальше остаётся взять минимальное значение двух критериев (оно будет соответствовать тому, в какую сторону корреляция исходной выборки отклоняется от нуля) и умножить это значение на два (тем самым мы комбинаторно учитываем оба случая). Полученное значение и будет значением _p-value_ двустороннего бутстреп-критерия.\n",
    "\n",
    "**Замечание**. Тоже относится к многомерному `np.random.choice` для случайного выбора пары точек. Но, похоже, что и его непросто реализовать, и у нас есть только одномерный вариант функции, который вполне успешно выполняется в цикле.\n",
    "\n",
    "В последних версиях библиотеки добавили `np.random.Generator.choice` и `np.random.Generator.permutation`, в которых присутствует `axis`, позволяющий векторизовать многомерные операции. Если только вам будет интересно с этим разобраться, что, впрочем, вовсем необязательно, и главное -- это понимать математику методов."
   ]
  },
  {
   "cell_type": "code",
   "execution_count": 6,
   "metadata": {},
   "outputs": [],
   "source": [
    "def bootstrap_test_significance(X, Y, n_pseudo_samples=10000):\n",
    "    # Your code goes here...\n",
    "    return boot_distr, p_val"
   ]
  },
  {
   "cell_type": "markdown",
   "metadata": {},
   "source": [
    "Сравните результаты и сделайте выводы."
   ]
  },
  {
   "cell_type": "code",
   "execution_count": 7,
   "metadata": {},
   "outputs": [
    {
     "ename": "NameError",
     "evalue": "name 'p_val' is not defined",
     "output_type": "error",
     "traceback": [
      "\u001b[0;31m---------------------------------------------------------------------------\u001b[0m",
      "\u001b[0;31mNameError\u001b[0m                                 Traceback (most recent call last)",
      "\u001b[0;32m<ipython-input-7-a840ab293bf6>\u001b[0m in \u001b[0;36m<module>\u001b[0;34m\u001b[0m\n\u001b[0;32m----> 1\u001b[0;31m \u001b[0mprint\u001b[0m\u001b[0;34m(\u001b[0m\u001b[0;34m\"Student significance: \"\u001b[0m\u001b[0;34m,\u001b[0m \u001b[0mround\u001b[0m\u001b[0;34m(\u001b[0m\u001b[0mstudent_significance\u001b[0m\u001b[0;34m(\u001b[0m\u001b[0mX\u001b[0m\u001b[0;34m,\u001b[0m \u001b[0mY\u001b[0m\u001b[0;34m)\u001b[0m\u001b[0;34m,\u001b[0m \u001b[0;36m5\u001b[0m\u001b[0;34m)\u001b[0m\u001b[0;34m)\u001b[0m\u001b[0;34m\u001b[0m\u001b[0;34m\u001b[0m\u001b[0m\n\u001b[0m\u001b[1;32m      2\u001b[0m \u001b[0mprint\u001b[0m\u001b[0;34m(\u001b[0m\u001b[0;34m\"PT significance: \"\u001b[0m\u001b[0;34m,\u001b[0m \u001b[0mround\u001b[0m\u001b[0;34m(\u001b[0m\u001b[0mpermutation_test_significance\u001b[0m\u001b[0;34m(\u001b[0m\u001b[0mX\u001b[0m\u001b[0;34m,\u001b[0m \u001b[0mY\u001b[0m\u001b[0;34m)\u001b[0m\u001b[0;34m[\u001b[0m\u001b[0;36m1\u001b[0m\u001b[0;34m]\u001b[0m\u001b[0;34m,\u001b[0m \u001b[0;36m5\u001b[0m\u001b[0;34m)\u001b[0m\u001b[0;34m)\u001b[0m\u001b[0;34m\u001b[0m\u001b[0;34m\u001b[0m\u001b[0m\n\u001b[1;32m      3\u001b[0m \u001b[0mprint\u001b[0m\u001b[0;34m(\u001b[0m\u001b[0;34m\"Boot significance: \"\u001b[0m\u001b[0;34m,\u001b[0m \u001b[0mround\u001b[0m\u001b[0;34m(\u001b[0m\u001b[0mbootstrap_test_significance\u001b[0m\u001b[0;34m(\u001b[0m\u001b[0mX\u001b[0m\u001b[0;34m,\u001b[0m \u001b[0mY\u001b[0m\u001b[0;34m)\u001b[0m\u001b[0;34m[\u001b[0m\u001b[0;36m1\u001b[0m\u001b[0;34m]\u001b[0m\u001b[0;34m,\u001b[0m \u001b[0;36m5\u001b[0m\u001b[0;34m)\u001b[0m\u001b[0;34m)\u001b[0m\u001b[0;34m\u001b[0m\u001b[0;34m\u001b[0m\u001b[0m\n",
      "\u001b[0;32m<ipython-input-4-e162dfad059c>\u001b[0m in \u001b[0;36mstudent_significance\u001b[0;34m(X, Y)\u001b[0m\n\u001b[1;32m      1\u001b[0m \u001b[0;32mdef\u001b[0m \u001b[0mstudent_significance\u001b[0m\u001b[0;34m(\u001b[0m\u001b[0mX\u001b[0m\u001b[0;34m,\u001b[0m \u001b[0mY\u001b[0m\u001b[0;34m)\u001b[0m\u001b[0;34m:\u001b[0m\u001b[0;34m\u001b[0m\u001b[0;34m\u001b[0m\u001b[0m\n\u001b[1;32m      2\u001b[0m     \u001b[0;31m# Your code goes here...\u001b[0m\u001b[0;34m\u001b[0m\u001b[0;34m\u001b[0m\u001b[0;34m\u001b[0m\u001b[0m\n\u001b[0;32m----> 3\u001b[0;31m     \u001b[0;32mreturn\u001b[0m \u001b[0mp_val\u001b[0m\u001b[0;34m\u001b[0m\u001b[0;34m\u001b[0m\u001b[0m\n\u001b[0m",
      "\u001b[0;31mNameError\u001b[0m: name 'p_val' is not defined"
     ]
    }
   ],
   "source": [
    "print(\"Student significance: \", round(student_significance(X, Y), 5))\n",
    "print(\"PT significance: \", round(permutation_test_significance(X, Y)[1], 5))\n",
    "print(\"Boot significance: \", round(bootstrap_test_significance(X, Y)[1], 5))"
   ]
  },
  {
   "cell_type": "markdown",
   "metadata": {},
   "source": [
    "**Выводы:**"
   ]
  },
  {
   "cell_type": "markdown",
   "metadata": {},
   "source": [
    "## Задача 2"
   ]
  },
  {
   "cell_type": "markdown",
   "metadata": {},
   "source": [
    "Сравните две группы $S_1$ и $S_2$ размера $10 \\times n$ по переменным $X_1, \\dots, X_{10}$."
   ]
  },
  {
   "cell_type": "code",
   "execution_count": null,
   "metadata": {},
   "outputs": [],
   "source": [
    "S1 = np.load(\"data2_1.npy\")\n",
    "S2 = np.load(\"data2_2.npy\")"
   ]
  },
  {
   "cell_type": "code",
   "execution_count": null,
   "metadata": {},
   "outputs": [],
   "source": [
    "X_from_S1, X_from_S2 = S1[0], S2[0] # Test it"
   ]
  },
  {
   "cell_type": "markdown",
   "metadata": {},
   "source": [
    "### U-тест Манна-Уиттни-Уилкоксона\n",
    "\n",
    "U-Тест проверяет нулевую гипотезы о том, что с равной вероятностью случайно выбранное значение из одной совокупности будет меньше или больше случайно выбранного значения из второй совокупности. \n",
    "\n",
    "Статистика U-теста эквивалентна значению ROC-AUC: (https://en.wikipedia.org/wiki/Mann–Whitney_U_test).\n",
    "\n",
    "В данной реализации вы можете не учитывать корректировку связанных рангов, а также использовать нормальное приближение и вычислять достигаемый уровень значимости через центральную предельную теорему. Для вычисления статистики можно пользоваться функцией `sp.stats.rankdata`. Тест должен быть _двусторонним_."
   ]
  },
  {
   "cell_type": "code",
   "execution_count": null,
   "metadata": {},
   "outputs": [],
   "source": [
    "def mw_test(X_from_S1, X_from_S2):\n",
    "    # Your code goes here...\n",
    "    return p_val"
   ]
  },
  {
   "cell_type": "markdown",
   "metadata": {},
   "source": [
    "### Критерий однородности Колмогорова-Смирнова\n",
    "Существует две версии критерия Колмогорова-Смирнова: одновыборочный (_согласия_) и двухвыборочный (_однородности_).\n",
    "\n",
    "https://ru.wikipedia.org/wiki/Критерий_согласия_Колмогорова\n",
    "\n",
    "Критерий _согласия_ Колмогорова предназначен для проверки гипотезы о принадлежности выборки некоторому закону распределения, то есть проверки того, что эмпирическое распределение соответствует предполагаемой модели.\n",
    "\n",
    "Критерий _однородности_ Смирнова используется для проверки гипотезы о принадлежности двух независимых выборок одному закону распределения, то есть о том, что два эмпирических распределения соответствуют одному и тому же закону.\n",
    "\n",
    "**Замечание**. Написать векторный вариант этой функции может быть непросто, и вы можете посмотреть исходные коды библиотеки `scipy` и попробовать написать свою интерпретацию метода.\n",
    "\n",
    "* https://github.com/scipy/scipy/blob/v1.4.1/scipy/stats/mstats_basic.py#L1235-L1282\n",
    "* https://github.com/scipy/scipy/blob/v0.14.0/scipy/stats/stats.py#L3809\n",
    "* https://github.com/scipy/scipy/blob/v1.4.1/scipy/stats/stats.py#L6087-L6282"
   ]
  },
  {
   "cell_type": "code",
   "execution_count": null,
   "metadata": {},
   "outputs": [],
   "source": [
    "def ks_test(X_from_S1, X_from_S2):\n",
    "    # Your code goes here...\n",
    "    return prob"
   ]
  },
  {
   "cell_type": "code",
   "execution_count": null,
   "metadata": {},
   "outputs": [],
   "source": [
    "res = defaultdict(list)\n",
    "\n",
    "for i, (X_from_S1, X_from_S2) in enumerate(zip(S1, S2)):\n",
    "    res[\"X\"].append(i+1)\n",
    "    res[\"Mann–Whitney\"].append(mw_test(X_from_S1, X_from_S2))\n",
    "    res[\"Kolmogorov–Smirnov\"].append(ks_test(X_from_S1, X_from_S2))\n",
    "    \n",
    "pd.DataFrame(res)"
   ]
  },
  {
   "cell_type": "markdown",
   "metadata": {},
   "source": [
    "Выясните, какие переменные являются значимыми на уровне $\\alpha$ с учётом коррекции."
   ]
  },
  {
   "cell_type": "code",
   "execution_count": null,
   "metadata": {},
   "outputs": [],
   "source": [
    "alpha = 0.05"
   ]
  },
  {
   "cell_type": "markdown",
   "metadata": {},
   "source": [
    "### Бонферрони\n",
    "\n",
    "\n",
    "Простая коррекция _заданных_ уровней значимости: $ \\alpha_1 = ... = \\alpha_m = \\alpha/m $. Альтернативный вид — переход к модифицированным _достигаемым_ уровням значимости: $\\tilde{p}_i = \\min(1, mp_i)$.\n",
    "\n",
    "**Подсказка**. В программной реализации брать минимум не обязательно."
   ]
  },
  {
   "cell_type": "code",
   "execution_count": null,
   "metadata": {},
   "outputs": [],
   "source": [
    "def bonferroni_correction(p_vals, alpha=alpha):\n",
    "    \"Must return bool (!) array: reject/accept after correction\"\n",
    "    # Your code goes here...\n",
    "    return is_rejected"
   ]
  },
  {
   "cell_type": "markdown",
   "metadata": {},
   "source": [
    "### Бонферрони-Холма\n",
    "\n",
    "_Нисходящий_ метод множественной проверки гипотез:\n",
    "\n",
    "$$\\alpha_1 = \\dfrac{\\alpha}{m}, \\alpha_2 = \\dfrac{\\alpha}{m - 1}, \\ldots, \\alpha_i = \\dfrac{\\alpha}{m - i + 1}, \\ldots, \\alpha_m = \\alpha.$$\n",
    "\n",
    "Тогда из вариационного ряда, если $p_{i} \\ge \\alpha_i$, принять все нулевые гипотезы $H_{(i)}, H_{(i+1)} \\ldots H_{(m)}$ и остановиться; иначе отвергнуть $H_{(i)}$ и продолжить. Каждый _достигаемый_ уровень значимости $p_{(i)}$ сравнивается со своим _заданным_ уровнем значимости $\\alpha_i$. \n",
    "\n",
    "Иначе, модифицированные _достигаемые_ значимости (p-values): $\\tilde{p}_{(i)} = \\min \\Big( 1, \\max \\big ( (m - i + 1)p_{(i)}, \\tilde{p}_{(i - 1)}\\big ) \\Big )$ сравниваются с исходным _заданным_ уровнем значимости $\\alpha$.\n",
    "\n",
    "**Подсказка**. Воспользуйтесь функкцией `np.maximum.accumulate`. Перейти от вариационного ряда $\\tilde{p}_{(i)}$ к исходному $\\tilde{p}_i$ можно с помощью обратной перестановки сортированных индексов. Несложно построить обратную перестановку, используя тождество $f^{-1}f = e$ (https://stackoverflow.com/questions/11649577/how-to-invert-a-permutation-array-in-numpy?rq=1)"
   ]
  },
  {
   "cell_type": "code",
   "execution_count": null,
   "metadata": {},
   "outputs": [],
   "source": [
    "def holm_correction(p_vals, alpha=alpha):\n",
    "    \"Must return bool (!) array: reject/accept after correction\"\n",
    "    # Your code goes here...\n",
    "    return is_rejected"
   ]
  },
  {
   "cell_type": "markdown",
   "metadata": {},
   "source": [
    "### Бенджамини-Хохберга\n",
    "\n",
    "_Восходящий_ метод множественной проверки гипотез:\n",
    "\n",
    "$$\\alpha_1 = \\dfrac{\\alpha}{m}, \\alpha_2 = \\dfrac{2\\alpha}{m}, \\ldots, \\alpha_i = \\dfrac{i\\alpha}{m}, \\ldots, \\alpha_m = \\alpha.$$\n",
    "\n",
    "Тогда из вариационного ряда, если $p_{i} \\le \\alpha_i$, отвергнуть все нулевые гипотезы $H_{(1)}, H_{(2)} \\ldots H_{(i)}$ и остановиться; иначе принять $H_{(i)}$ и продолжить. Каждый _достигаемый_ уровень значимости $p_{(i)}$ сравнивается со своим _заданным_ уровнем значимости $\\alpha_i$. \n",
    "\n",
    "Иначе, модифицированные _достигаемые_ значимости (p-values): $\\tilde{p}_{(i)} = \\min \\big( 1,  \\dfrac{mp_{(i)}}{i}, \\tilde{p}_{(i + 1)} \\big )$ сравниваются с исходным _заданным_ уровнем значимости $\\alpha$.\n",
    "\n",
    "**Подсказка**. `np.minimum.accumulate` и `[::-1]`"
   ]
  },
  {
   "cell_type": "code",
   "execution_count": null,
   "metadata": {},
   "outputs": [],
   "source": [
    "def bendjamini_correction(p_vals, alpha=alpha):\n",
    "    \"Must return bool (!) array: reject/accept after correction\"\n",
    "    # Your code goes here...\n",
    "    return is_rejected"
   ]
  },
  {
   "cell_type": "markdown",
   "metadata": {},
   "source": [
    "Сравните результаты и сделайте выводы. Проверьте корректность вычислений сравнив значения с библиотечной функцией `statsmodels.stats.multitest.multipletests`."
   ]
  },
  {
   "cell_type": "markdown",
   "metadata": {},
   "source": [
    "*Дополнительная информация:* на самом деле лишь переменные $X_1$, $X_2$ и $X_3$ имеют одинаковое распределение."
   ]
  },
  {
   "cell_type": "markdown",
   "metadata": {},
   "source": [
    "Не забудьте сделать выводы!"
   ]
  },
  {
   "cell_type": "markdown",
   "metadata": {},
   "source": [
    "**Выводы:**"
   ]
  }
 ],
 "metadata": {
  "kernelspec": {
   "display_name": "Python 3",
   "language": "python",
   "name": "python3"
  },
  "language_info": {
   "codemirror_mode": {
    "name": "ipython",
    "version": 3
   },
   "file_extension": ".py",
   "mimetype": "text/x-python",
   "name": "python",
   "nbconvert_exporter": "python",
   "pygments_lexer": "ipython3",
   "version": "3.7.7"
  }
 },
 "nbformat": 4,
 "nbformat_minor": 2
}
