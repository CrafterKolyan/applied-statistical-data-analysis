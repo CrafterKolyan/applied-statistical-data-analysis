{
 "cells": [
  {
   "cell_type": "markdown",
   "metadata": {},
   "source": [
    "## Здравствуйте, меня зовут *Николай Королев*, вот моё Задание №4 по курсу ПСАД-2020!"
   ]
  },
  {
   "cell_type": "code",
   "execution_count": 1,
   "metadata": {},
   "outputs": [],
   "source": [
    "import pandas as pd\n",
    "import numpy as np\n",
    "import scipy as sp\n",
    "import seaborn as sns\n",
    "from collections import defaultdict\n",
    "from matplotlib import pyplot as plt\n",
    "\n",
    "from math import sqrt, factorial\n",
    "from itertools import chain, permutations\n",
    "from random import shuffle\n",
    "\n",
    "from tqdm.notebook import tqdm\n",
    "\n",
    "\n",
    "import seaborn as sns\n",
    "sns.set()\n",
    "\n",
    "np.random.seed(228)\n",
    "\n",
    "%matplotlib inline\n",
    "# %config InlineBackend.figure_format = 'svg' "
   ]
  },
  {
   "cell_type": "markdown",
   "metadata": {},
   "source": [
    "## Задача 1  "
   ]
  },
  {
   "cell_type": "markdown",
   "metadata": {},
   "source": [
    "Задана обучающая выборка $\\widetilde{S}$ размера $n \\times 2$, включающая значения переменных $X$ и $Y$."
   ]
  },
  {
   "cell_type": "code",
   "execution_count": 2,
   "metadata": {},
   "outputs": [],
   "source": [
    "from scipy.stats import linregress\n",
    "\n",
    "def draw_linear(x, y, x_name='X', y_name='Y'):\n",
    "    \"Scatter x-y points and draw a LR line.\"\n",
    "    slope, intercept, r, _, _ = linregress(x, y)\n",
    "    x_max, x_min = x.max(), x.min()\n",
    "    x_range = x_max - x_min\n",
    "    x_lims = np.array([x_min - 0.1 * x_range, x_max + 0.1 * x_range])\n",
    "    plt.xlabel(x_name)\n",
    "    plt.ylabel(y_name)\n",
    "    plt.plot(x, y, 'g+', label='Objects')\n",
    "    plt.plot(x_lims, intercept + slope * x_lims, 'r--', label=r\"LR line with $\\rho \\approx {:.3f}$\".format(r))\n",
    "    plt.legend()\n",
    "    plt.show()"
   ]
  },
  {
   "cell_type": "code",
   "execution_count": 3,
   "metadata": {},
   "outputs": [
    {
     "data": {
      "image/png": "[encoded data removed]",
      "text/plain": [
       "<Figure size 432x288 with 1 Axes>"
      ]
     },
     "metadata": {
      "needs_background": "light"
     },
     "output_type": "display_data"
    }
   ],
   "source": [
    "S = np.load(\"data1.npy\")\n",
    "X, Y = S\n",
    "draw_linear(X, Y)"
   ]
  },
  {
   "cell_type": "markdown",
   "metadata": {},
   "source": [
    "* Оцените значимость коэффициента корреляции с помощью трёх тестов: критерия Стюдента, перестановочного теста и бутстреп-критерия. Под значимостью коэффициента в данном случае понимается его значимое отличие от нуля.\n",
    "\n",
    "* Постройте графики нулевых распределений перестановочного и t-теста, а также распределение статистики бутстреп-теста. Попробуйте использовать функции `sns.lineplot, sns.distplot`. Для параметрического распределения носитель нужно определять самому, а для непараметрического можно рисовать гистограмму по данным как есть.\n",
    "\n",
    "* Сравните полученные результаты и напишите выводы."
   ]
  },
  {
   "cell_type": "markdown",
   "metadata": {},
   "source": [
    "### Критерий Стьюдента\n",
    "\n",
    "Проведите **двусторонний t-тест** для нулевой гипотезы о равенстве корреляции нулю. Для этого воспользуйтесь центральной предельной теоремой, приведя статистику к стандартизованной форме распределения Стьюдента . Полученное распределение $St(n - 2)$ будет **распределением нулевой гипотезы** $H_0$, а посчитанная статистика $T(X, Y)$ -- **его квантилью**. Достигаемый уровень значимости -- это вероятностная масса нулевого распределения, на которой суммарно получилось такое же или ещё более экстремальное значение статистики. В случае двустороннего теста заранее не известно, по какую сторону от нуля будет значение статистики, поэтому учитываются оба варианта."
   ]
  },
  {
   "cell_type": "code",
   "execution_count": 4,
   "metadata": {},
   "outputs": [],
   "source": [
    "def student_significance(X, Y):\n",
    "    X_mean = X.mean()\n",
    "    Y_mean = Y.mean()\n",
    "    numerator = (X * Y).mean() - X_mean * Y_mean\n",
    "    denominator = ((X * X).mean() - X_mean * X_mean) * ((Y * Y).mean() - Y_mean * Y_mean)\n",
    "    r = numerator / np.sqrt(denominator)\n",
    "    t = r * np.sqrt(len(X) - 2) / np.sqrt(1 - r * r)\n",
    "    p_val = 2 * sp.stats.t(len(X) - 2).sf(abs(t))\n",
    "    return p_val"
   ]
  },
  {
   "cell_type": "markdown",
   "metadata": {},
   "source": [
    "### Перестановочный тест\n",
    "\n",
    "Проведите **двусторонний перестановочный тест** для нулевой гипотезы о равенстве корреляции нулю. Нулевое распределение порождается перебором $n!$ перестановок индексов одной из выборок. Достигаемый уровень значимости -- доля перестановок, на которых получилось такое же или ещё более экстремальное значение статистики. Перебор всех перестановок может быть очень большим, поэтому ограничиваются случайным подмножеством перестановок. В силу симметрии распределения, двусторонний тест учитывает абсолютное значение статистики. \n",
    "\n",
    "**Замечание**. Похоже, это очень непросто для создателей библиотек реализовать функцию перестановки, чтобы она возвращала _случайное подмножество_ перестановок. Функция `itertools.permutations` возвращает все возможные _упорядоченные_ перестановки, причём их невозможно перемешать или взять подвыборку, не раскрывая генератор. Функция `np.random.permutation` выполняет одну случайную перестановку, вот её как раз и можно записать в цикле."
   ]
  },
  {
   "cell_type": "code",
   "execution_count": 5,
   "metadata": {},
   "outputs": [],
   "source": [
    "def permutation_test_significance(X, Y, n_permutations=100000, verbose=True):\n",
    "    iterator = tqdm(range(n_permutations), leave=False, disable=not verbose)\n",
    "    X_mean = X.mean()\n",
    "    Y_mean = Y.mean()\n",
    "    numerator = (X * Y).mean() - X_mean * Y_mean\n",
    "    denominator = np.sqrt(((X * X).mean() - X_mean * X_mean) * ((Y * Y).mean() - Y_mean * Y_mean))\n",
    "    r = numerator / denominator\n",
    "    perm_distr = []\n",
    "    for i in iterator:\n",
    "        permutation = np.random.permutation(X)\n",
    "        numerator = (permutation * Y).mean() - X_mean * Y_mean\n",
    "        perm_distr.append(numerator / denominator)\n",
    "    perm_distr = np.array(perm_distr)\n",
    "    p_val = 2 * (perm_distr >= abs(r)).mean()\n",
    "    return perm_distr, p_val"
   ]
  },
  {
   "cell_type": "markdown",
   "metadata": {},
   "source": [
    "### Бутстреп\n",
    "\n",
    "Примените **двусторонний бутстреп-тест** о равенстве корреляции нулю. В бутстреп-тесте не строится распределение нулевой гипотезы, а вместо этого напрямую строится приближённое **распределение исследуемой статистики**. В оценке корреляции участвуют две выборки $X, Y$, поэтому для создания на их основе псевдовыборок методом Монте-Карло, мы сэмплируем с возвращением пары $(X_i, Y_i)$ и, считая корреляцию внутри каждой псевдовыборки, получаем бутстреп-распределение корреляции. \n",
    "\n",
    "Дальше по вычисленному бутстреп-распределению статистики нужно оценить **достигаемый уровень значимости (_p-value_)** критерия. Сначала построим два односторонних критерия. В них достигаемый уровень значимости -- это доля псевдовыборок, на которых корреляция меньше либо равно нулю (больше либо равна нулю). Дальше остаётся взять минимальное значение двух критериев (оно будет соответствовать тому, в какую сторону корреляция исходной выборки отклоняется от нуля) и умножить это значение на два (тем самым мы комбинаторно учитываем оба случая). Полученное значение и будет значением _p-value_ двустороннего бутстреп-критерия.\n",
    "\n",
    "**Замечание**. Тоже относится к многомерному `np.random.choice` для случайного выбора пары точек. Но, похоже, что и его непросто реализовать, и у нас есть только одномерный вариант функции, который вполне успешно выполняется в цикле.\n",
    "\n",
    "В последних версиях библиотеки добавили `np.random.Generator.choice` и `np.random.Generator.permutation`, в которых присутствует `axis`, позволяющий векторизовать многомерные операции. Если только вам будет интересно с этим разобраться, что, впрочем, вовсем необязательно, и главное -- это понимать математику методов."
   ]
  },
  {
   "cell_type": "code",
   "execution_count": 6,
   "metadata": {},
   "outputs": [],
   "source": [
    "def bootstrap_test_significance(X, Y, n_pseudo_samples=10000, verbose=True):\n",
    "    def correlation(X, Y):\n",
    "        X_mean = X.mean()\n",
    "        Y_mean = Y.mean()\n",
    "        numerator = (X * Y).mean() - X_mean * Y_mean\n",
    "        denominator = np.sqrt(((X * X).mean() - X_mean * X_mean) * ((Y * Y).mean() - Y_mean * Y_mean))\n",
    "        r = numerator / denominator\n",
    "        return r\n",
    "    \n",
    "    iterator = tqdm(range(n_pseudo_samples), leave=False, disable=not verbose)\n",
    "    r = correlation(X, Y)\n",
    "    boot_distr = []\n",
    "    for i in iterator:\n",
    "        indices = np.random.choice(len(X), len(X))\n",
    "        boot_distr.append(correlation(X[indices], Y[indices]))\n",
    "    boot_distr = np.array(boot_distr)\n",
    "    p_val = 2 * min((boot_distr <= 0).mean(), (boot_distr >= 0).mean())\n",
    "    return boot_distr, p_val"
   ]
  },
  {
   "cell_type": "markdown",
   "metadata": {},
   "source": [
    "Сравните результаты и сделайте выводы."
   ]
  },
  {
   "cell_type": "code",
   "execution_count": 7,
   "metadata": {
    "scrolled": true
   },
   "outputs": [
    {
     "name": "stdout",
     "output_type": "stream",
     "text": [
      "Student significance:  0.00324\n"
     ]
    },
    {
     "name": "stdout",
     "output_type": "stream",
     "text": [
      "PT significance:  0.00334\n"
     ]
    },
    {
     "name": "stdout",
     "output_type": "stream",
     "text": [
      "Boot significance:  0.0112\n"
     ]
    }
   ],
   "source": [
    "print(\"Student significance: \", round(student_significance(X, Y), 5))\n",
    "print(\"PT significance: \", round(permutation_test_significance(X, Y, verbose=False)[1], 5))\n",
    "print(\"Boot significance: \", round(bootstrap_test_significance(X, Y, verbose=False)[1], 5))"
   ]
  },
  {
   "cell_type": "code",
   "execution_count": 8,
   "metadata": {},
   "outputs": [
    {
     "data": {
      "image/png": "[encoded data removed]",
      "text/plain": [
       "<Figure size 432x288 with 1 Axes>"
      ]
     },
     "metadata": {
      "needs_background": "light"
     },
     "output_type": "display_data"
    }
   ],
   "source": [
    "dist = sp.stats.t(len(X) - 2)\n",
    "min_value = 1e-4\n",
    "points = 300\n",
    "support = np.linspace(dist.ppf(min_value), dist.isf(min_value), points)\n",
    "sns.lineplot(support, dist.pdf(support))\n",
    "plt.title(f\"Student({len(X) - 2}) distribution\")\n",
    "plt.xlabel(\"value\")\n",
    "plt.ylabel(\"probability\")\n",
    "plt.show()"
   ]
  },
  {
   "cell_type": "code",
   "execution_count": 9,
   "metadata": {},
   "outputs": [
    {
     "data": {
      "image/png": "[encoded data removed]",
      "text/plain": [
       "<Figure size 432x288 with 1 Axes>"
      ]
     },
     "metadata": {
      "needs_background": "light"
     },
     "output_type": "display_data"
    }
   ],
   "source": [
    "sns.distplot(permutation_test_significance(X, Y, verbose=False)[0])\n",
    "plt.title(\"Permutation distribution\")\n",
    "plt.xlabel(\"value\")\n",
    "plt.ylabel(\"probability\")\n",
    "plt.show()"
   ]
  },
  {
   "cell_type": "code",
   "execution_count": 10,
   "metadata": {},
   "outputs": [
    {
     "data": {
      "image/png": "[encoded data removed]",
      "text/plain": [
       "<Figure size 432x288 with 1 Axes>"
      ]
     },
     "metadata": {
      "needs_background": "light"
     },
     "output_type": "display_data"
    }
   ],
   "source": [
    "sns.distplot(bootstrap_test_significance(X, Y, verbose=False)[0])\n",
    "plt.title(\"Bootstrap distribution\")\n",
    "plt.xlabel(\"value\")\n",
    "plt.ylabel(\"probability\")\n",
    "plt.show()"
   ]
  },
  {
   "cell_type": "code",
   "execution_count": 11,
   "metadata": {},
   "outputs": [
    {
     "data": {
      "image/png": "[encoded data removed]",
      "text/plain": [
       "<Figure size 432x288 with 1 Axes>"
      ]
     },
     "metadata": {
      "needs_background": "light"
     },
     "output_type": "display_data"
    }
   ],
   "source": [
    "sns.distplot(permutation_test_significance(X, Y, verbose=False)[0], label='permutation')\n",
    "sns.distplot(bootstrap_test_significance(X, Y, verbose=False)[0], label='bootstrap')\n",
    "plt.title(\"Bootstrap and permutation distribution comparison\")\n",
    "plt.xlabel(\"value\")\n",
    "plt.ylabel(\"probability\")\n",
    "plt.legend()\n",
    "plt.show()"
   ]
  },
  {
   "cell_type": "markdown",
   "metadata": {},
   "source": [
    "**Выводы:** Бутстреп-критерий менее уверенно отвергает гипотезу о незначимости коэффициент корреляции и его распределение отличается смещенно относительно других критериев на величину равную коэффициенту корреляции, посчитанному по выборке. Также бутстреп-распределение более сплюснутое."
   ]
  },
  {
   "cell_type": "markdown",
   "metadata": {},
   "source": [
    "## Задача 2"
   ]
  },
  {
   "cell_type": "markdown",
   "metadata": {},
   "source": [
    "Сравните две группы $S_1$ и $S_2$ размера $10 \\times n$ по переменным $X_1, \\dots, X_{10}$."
   ]
  },
  {
   "cell_type": "code",
   "execution_count": 12,
   "metadata": {},
   "outputs": [],
   "source": [
    "S1 = np.load(\"data2_1.npy\")\n",
    "S2 = np.load(\"data2_2.npy\")"
   ]
  },
  {
   "cell_type": "code",
   "execution_count": 13,
   "metadata": {},
   "outputs": [],
   "source": [
    "X_from_S1, X_from_S2 = S1[0], S2[0] # Test it"
   ]
  },
  {
   "cell_type": "markdown",
   "metadata": {},
   "source": [
    "### U-тест Манна-Уиттни-Уилкоксона\n",
    "\n",
    "U-Тест проверяет нулевую гипотезу о том, что с равной вероятностью случайно выбранное значение из одной совокупности будет меньше или больше случайно выбранного значения из второй совокупности. \n",
    "\n",
    "Статистика U-теста эквивалентна значению ROC-AUC: (https://en.wikipedia.org/wiki/Mann–Whitney_U_test).\n",
    "\n",
    "В данной реализации вы можете не учитывать корректировку связанных рангов, а также использовать нормальное приближение и вычислять достигаемый уровень значимости через центральную предельную теорему. Для вычисления статистики можно пользоваться функцией `sp.stats.rankdata`. Тест должен быть _двусторонним_."
   ]
  },
  {
   "cell_type": "code",
   "execution_count": 14,
   "metadata": {},
   "outputs": [],
   "source": [
    "def mw_test(X, Y):\n",
    "    S = np.concatenate((X, Y))\n",
    "    ranks = sp.stats.rankdata(S, method='average')\n",
    "    n = len(X)\n",
    "    m = len(Y)\n",
    "    t = ranks[:n].sum() - n * (n + 1) / 2\n",
    "    mean = n * m / 2\n",
    "    std = np.sqrt(n * m * (n + m + 1) / 12)\n",
    "    p_val = 2 * sp.stats.norm(mean, std).sf(abs(t))\n",
    "    return p_val"
   ]
  },
  {
   "cell_type": "markdown",
   "metadata": {},
   "source": [
    "### Критерий однородности Колмогорова-Смирнова\n",
    "Существует две версии критерия Колмогорова-Смирнова: одновыборочный (_согласия_) и двухвыборочный (_однородности_).\n",
    "\n",
    "https://ru.wikipedia.org/wiki/Критерий_согласия_Колмогорова\n",
    "\n",
    "Критерий _согласия_ Колмогорова предназначен для проверки гипотезы о принадлежности выборки некоторому закону распределения, то есть проверки того, что эмпирическое распределение соответствует предполагаемой модели.\n",
    "\n",
    "Критерий _однородности_ Смирнова используется для проверки гипотезы о принадлежности двух независимых выборок одному закону распределения, то есть о том, что два эмпирических распределения соответствуют одному и тому же закону.\n",
    "\n",
    "**Замечание**. Написать векторный вариант этой функции может быть непросто, и вы можете посмотреть исходные коды библиотеки `scipy` и попробовать написать свою интерпретацию метода.\n",
    "\n",
    "* https://github.com/scipy/scipy/blob/v1.4.1/scipy/stats/mstats_basic.py#L1235-L1282\n",
    "* https://github.com/scipy/scipy/blob/v0.14.0/scipy/stats/stats.py#L3809\n",
    "* https://github.com/scipy/scipy/blob/v1.4.1/scipy/stats/stats.py#L6087-L6282"
   ]
  },
  {
   "cell_type": "code",
   "execution_count": 15,
   "metadata": {},
   "outputs": [],
   "source": [
    "def ks_test(X, Y):\n",
    "    S = np.concatenate((X, Y))\n",
    "    indices = S.argsort()\n",
    "    n = len(X)\n",
    "    m = len(Y)\n",
    "    difference = np.empty(n + m)\n",
    "    difference[:n] = 1 / n\n",
    "    difference[n:] = -1 / m\n",
    "    difference = difference[indices]\n",
    "    difference = np.cumsum(difference)\n",
    "    t = np.abs(difference).max()\n",
    "    D = np.sqrt(n * m / (n + m))\n",
    "    prob = sp.stats.kstwobign.sf(t * D)\n",
    "    return prob"
   ]
  },
  {
   "cell_type": "code",
   "execution_count": 16,
   "metadata": {},
   "outputs": [
    {
     "data": {
      "text/html": [
       "<div>\n",
       "<style scoped>\n",
       "    .dataframe tbody tr th:only-of-type {\n",
       "        vertical-align: middle;\n",
       "    }\n",
       "\n",
       "    .dataframe tbody tr th {\n",
       "        vertical-align: top;\n",
       "    }\n",
       "\n",
       "    .dataframe thead th {\n",
       "        text-align: right;\n",
       "    }\n",
       "</style>\n",
       "<table border=\"1\" class=\"dataframe\">\n",
       "  <thead>\n",
       "    <tr style=\"text-align: right;\">\n",
       "      <th></th>\n",
       "      <th>X</th>\n",
       "      <th>Mann–Whitney</th>\n",
       "      <th>Kolmogorov–Smirnov</th>\n",
       "    </tr>\n",
       "  </thead>\n",
       "  <tbody>\n",
       "    <tr>\n",
       "      <th>0</th>\n",
       "      <td>1</td>\n",
       "      <td>6.900047e-03</td>\n",
       "      <td>7.991691e-03</td>\n",
       "    </tr>\n",
       "    <tr>\n",
       "      <th>1</th>\n",
       "      <td>2</td>\n",
       "      <td>1.153106e+00</td>\n",
       "      <td>9.981514e-01</td>\n",
       "    </tr>\n",
       "    <tr>\n",
       "      <th>2</th>\n",
       "      <td>3</td>\n",
       "      <td>3.952950e-01</td>\n",
       "      <td>5.806177e-01</td>\n",
       "    </tr>\n",
       "    <tr>\n",
       "      <th>3</th>\n",
       "      <td>4</td>\n",
       "      <td>2.520686e-01</td>\n",
       "      <td>2.106303e-21</td>\n",
       "    </tr>\n",
       "    <tr>\n",
       "      <th>4</th>\n",
       "      <td>5</td>\n",
       "      <td>7.018682e-01</td>\n",
       "      <td>2.416364e-19</td>\n",
       "    </tr>\n",
       "    <tr>\n",
       "      <th>5</th>\n",
       "      <td>6</td>\n",
       "      <td>8.149181e-01</td>\n",
       "      <td>1.245783e-19</td>\n",
       "    </tr>\n",
       "    <tr>\n",
       "      <th>6</th>\n",
       "      <td>7</td>\n",
       "      <td>1.999990e+00</td>\n",
       "      <td>4.452597e-04</td>\n",
       "    </tr>\n",
       "    <tr>\n",
       "      <th>7</th>\n",
       "      <td>8</td>\n",
       "      <td>2.238523e-07</td>\n",
       "      <td>6.727191e-06</td>\n",
       "    </tr>\n",
       "    <tr>\n",
       "      <th>8</th>\n",
       "      <td>9</td>\n",
       "      <td>1.998870e+00</td>\n",
       "      <td>1.008352e-02</td>\n",
       "    </tr>\n",
       "    <tr>\n",
       "      <th>9</th>\n",
       "      <td>10</td>\n",
       "      <td>1.568192e+00</td>\n",
       "      <td>1.008352e-02</td>\n",
       "    </tr>\n",
       "  </tbody>\n",
       "</table>\n",
       "</div>"
      ],
      "text/plain": [
       "    X  Mann–Whitney  Kolmogorov–Smirnov\n",
       "0   1  6.900047e-03        7.991691e-03\n",
       "1   2  1.153106e+00        9.981514e-01\n",
       "2   3  3.952950e-01        5.806177e-01\n",
       "3   4  2.520686e-01        2.106303e-21\n",
       "4   5  7.018682e-01        2.416364e-19\n",
       "5   6  8.149181e-01        1.245783e-19\n",
       "6   7  1.999990e+00        4.452597e-04\n",
       "7   8  2.238523e-07        6.727191e-06\n",
       "8   9  1.998870e+00        1.008352e-02\n",
       "9  10  1.568192e+00        1.008352e-02"
      ]
     },
     "execution_count": 16,
     "metadata": {},
     "output_type": "execute_result"
    }
   ],
   "source": [
    "res = defaultdict(list)\n",
    "\n",
    "for i, (X_from_S1, X_from_S2) in enumerate(zip(S1, S2)):\n",
    "    res[\"X\"].append(i+1)\n",
    "    res[\"Mann–Whitney\"].append(mw_test(X_from_S1, X_from_S2))\n",
    "    res[\"Kolmogorov–Smirnov\"].append(ks_test(X_from_S1, X_from_S2))\n",
    "    \n",
    "pd.DataFrame(res)"
   ]
  },
  {
   "cell_type": "markdown",
   "metadata": {},
   "source": [
    "Выясните, какие переменные являются значимыми на уровне $\\alpha$ с учётом коррекции."
   ]
  },
  {
   "cell_type": "code",
   "execution_count": 17,
   "metadata": {},
   "outputs": [],
   "source": [
    "alpha = 0.05"
   ]
  },
  {
   "cell_type": "markdown",
   "metadata": {},
   "source": [
    "### Бонферрони\n",
    "\n",
    "\n",
    "Простая коррекция _заданных_ уровней значимости: $ \\alpha_1 = ... = \\alpha_m = \\alpha/m $. Альтернативный вид — переход к модифицированным _достигаемым_ уровням значимости: $\\tilde{p}_i = \\min(1, mp_i)$.\n",
    "\n",
    "**Подсказка**. В программной реализации брать минимум не обязательно."
   ]
  },
  {
   "cell_type": "code",
   "execution_count": 18,
   "metadata": {},
   "outputs": [],
   "source": [
    "def bonferroni_correction(p_vals, alpha=alpha):\n",
    "    \"Must return bool (!) array: reject/accept after correction\"\n",
    "    is_rejected = (p_vals * len(p_vals)) > alpha\n",
    "    return is_rejected"
   ]
  },
  {
   "cell_type": "markdown",
   "metadata": {},
   "source": [
    "### Бонферрони-Холма\n",
    "\n",
    "_Нисходящий_ метод множественной проверки гипотез:\n",
    "\n",
    "$$\\alpha_1 = \\dfrac{\\alpha}{m}, \\alpha_2 = \\dfrac{\\alpha}{m - 1}, \\ldots, \\alpha_i = \\dfrac{\\alpha}{m - i + 1}, \\ldots, \\alpha_m = \\alpha.$$\n",
    "\n",
    "Тогда из вариационного ряда, если $p_{i} \\ge \\alpha_i$, принять все нулевые гипотезы $H_{(i)}, H_{(i+1)} \\ldots H_{(m)}$ и остановиться; иначе отвергнуть $H_{(i)}$ и продолжить. Каждый _достигаемый_ уровень значимости $p_{(i)}$ сравнивается со своим _заданным_ уровнем значимости $\\alpha_i$. \n",
    "\n",
    "Иначе, модифицированные _достигаемые_ значимости (p-values): $\\tilde{p}_{(i)} = \\min \\Big( 1, \\max \\big ( (m - i + 1)p_{(i)}, \\tilde{p}_{(i - 1)}\\big ) \\Big )$ сравниваются с исходным _заданным_ уровнем значимости $\\alpha$.\n",
    "\n",
    "**Подсказка**. Воспользуйтесь функкцией `np.maximum.accumulate`. Перейти от вариационного ряда $\\tilde{p}_{(i)}$ к исходному $\\tilde{p}_i$ можно с помощью обратной перестановки сортированных индексов. Несложно построить обратную перестановку, используя тождество $f^{-1}f = e$ (https://stackoverflow.com/questions/11649577/how-to-invert-a-permutation-array-in-numpy?rq=1)"
   ]
  },
  {
   "cell_type": "code",
   "execution_count": 19,
   "metadata": {},
   "outputs": [],
   "source": [
    "def holm_correction(p_vals, alpha=alpha):\n",
    "    \"Must return bool (!) array: reject/accept after correction\"\n",
    "    indices = p_vals.argsort()\n",
    "    n = len(p_vals)\n",
    "    p_vals = np.maximum.accumulate(p_vals[indices] * (n - np.arange(n)))\n",
    "    is_rejected = np.empty(p_vals.shape, dtype=np.bool)\n",
    "    is_rejected[indices] = p_vals > alpha\n",
    "    return is_rejected"
   ]
  },
  {
   "cell_type": "markdown",
   "metadata": {},
   "source": [
    "### Бенджамини-Хохберга\n",
    "\n",
    "_Восходящий_ метод множественной проверки гипотез:\n",
    "\n",
    "$$\\alpha_1 = \\dfrac{\\alpha}{m}, \\alpha_2 = \\dfrac{2\\alpha}{m}, \\ldots, \\alpha_i = \\dfrac{i\\alpha}{m}, \\ldots, \\alpha_m = \\alpha.$$\n",
    "\n",
    "Тогда из вариационного ряда, если $p_{i} \\le \\alpha_i$, отвергнуть все нулевые гипотезы $H_{(1)}, H_{(2)} \\ldots H_{(i)}$ и остановиться; иначе принять $H_{(i)}$ и продолжить. Каждый _достигаемый_ уровень значимости $p_{(i)}$ сравнивается со своим _заданным_ уровнем значимости $\\alpha_i$. \n",
    "\n",
    "Иначе, модифицированные _достигаемые_ значимости (p-values): $\\tilde{p}_{(i)} = \\min \\big( 1,  \\dfrac{mp_{(i)}}{i}, \\tilde{p}_{(i + 1)} \\big )$ сравниваются с исходным _заданным_ уровнем значимости $\\alpha$.\n",
    "\n",
    "**Подсказка**. `np.minimum.accumulate` и `[::-1]`"
   ]
  },
  {
   "cell_type": "code",
   "execution_count": 20,
   "metadata": {},
   "outputs": [],
   "source": [
    "def bendjamini_correction(p_vals, alpha=alpha):\n",
    "    \"Must return bool (!) array: reject/accept after correction\"\n",
    "    indices = p_vals.argsort()\n",
    "    n = len(p_vals)\n",
    "    p_vals = p_vals[indices] * n / np.arange(1, n + 1)\n",
    "    p_vals = np.minimum.accumulate(p_vals[::-1])[::-1]\n",
    "    is_rejected = np.empty(p_vals.shape, dtype=np.bool)\n",
    "    is_rejected[indices] = p_vals > alpha\n",
    "    return is_rejected"
   ]
  },
  {
   "cell_type": "markdown",
   "metadata": {},
   "source": [
    "Сравните результаты и сделайте выводы. Проверьте корректность вычислений сравнив значения с библиотечной функцией `statsmodels.stats.multitest.multipletests`."
   ]
  },
  {
   "cell_type": "code",
   "execution_count": 21,
   "metadata": {},
   "outputs": [
    {
     "data": {
      "text/html": [
       "<div>\n",
       "<style scoped>\n",
       "    .dataframe tbody tr th:only-of-type {\n",
       "        vertical-align: middle;\n",
       "    }\n",
       "\n",
       "    .dataframe tbody tr th {\n",
       "        vertical-align: top;\n",
       "    }\n",
       "\n",
       "    .dataframe thead tr th {\n",
       "        text-align: left;\n",
       "    }\n",
       "</style>\n",
       "<table border=\"1\" class=\"dataframe\">\n",
       "  <thead>\n",
       "    <tr>\n",
       "      <th></th>\n",
       "      <th colspan=\"6\" halign=\"left\">my</th>\n",
       "      <th colspan=\"6\" halign=\"left\">library</th>\n",
       "    </tr>\n",
       "    <tr>\n",
       "      <th></th>\n",
       "      <th colspan=\"3\" halign=\"left\">Mann–Whitney</th>\n",
       "      <th colspan=\"3\" halign=\"left\">Kolmogorov–Smirnov</th>\n",
       "      <th colspan=\"3\" halign=\"left\">Mann–Whitney</th>\n",
       "      <th colspan=\"3\" halign=\"left\">Kolmogorov–Smirnov</th>\n",
       "    </tr>\n",
       "    <tr>\n",
       "      <th></th>\n",
       "      <th>bonferroni</th>\n",
       "      <th>homl</th>\n",
       "      <th>bendjamini</th>\n",
       "      <th>bonferroni</th>\n",
       "      <th>homl</th>\n",
       "      <th>bendjamini</th>\n",
       "      <th>bonferroni</th>\n",
       "      <th>homl</th>\n",
       "      <th>bendjamini</th>\n",
       "      <th>bonferroni</th>\n",
       "      <th>homl</th>\n",
       "      <th>bendjamini</th>\n",
       "    </tr>\n",
       "  </thead>\n",
       "  <tbody>\n",
       "    <tr>\n",
       "      <th>0</th>\n",
       "      <td>True</td>\n",
       "      <td>True</td>\n",
       "      <td>False</td>\n",
       "      <td>True</td>\n",
       "      <td>False</td>\n",
       "      <td>False</td>\n",
       "      <td>True</td>\n",
       "      <td>True</td>\n",
       "      <td>False</td>\n",
       "      <td>True</td>\n",
       "      <td>False</td>\n",
       "      <td>False</td>\n",
       "    </tr>\n",
       "    <tr>\n",
       "      <th>1</th>\n",
       "      <td>True</td>\n",
       "      <td>True</td>\n",
       "      <td>True</td>\n",
       "      <td>True</td>\n",
       "      <td>True</td>\n",
       "      <td>True</td>\n",
       "      <td>True</td>\n",
       "      <td>True</td>\n",
       "      <td>True</td>\n",
       "      <td>True</td>\n",
       "      <td>True</td>\n",
       "      <td>True</td>\n",
       "    </tr>\n",
       "    <tr>\n",
       "      <th>2</th>\n",
       "      <td>True</td>\n",
       "      <td>True</td>\n",
       "      <td>True</td>\n",
       "      <td>True</td>\n",
       "      <td>True</td>\n",
       "      <td>True</td>\n",
       "      <td>True</td>\n",
       "      <td>True</td>\n",
       "      <td>True</td>\n",
       "      <td>True</td>\n",
       "      <td>True</td>\n",
       "      <td>True</td>\n",
       "    </tr>\n",
       "    <tr>\n",
       "      <th>3</th>\n",
       "      <td>True</td>\n",
       "      <td>True</td>\n",
       "      <td>True</td>\n",
       "      <td>False</td>\n",
       "      <td>False</td>\n",
       "      <td>False</td>\n",
       "      <td>True</td>\n",
       "      <td>True</td>\n",
       "      <td>True</td>\n",
       "      <td>False</td>\n",
       "      <td>False</td>\n",
       "      <td>False</td>\n",
       "    </tr>\n",
       "    <tr>\n",
       "      <th>4</th>\n",
       "      <td>True</td>\n",
       "      <td>True</td>\n",
       "      <td>True</td>\n",
       "      <td>False</td>\n",
       "      <td>False</td>\n",
       "      <td>False</td>\n",
       "      <td>True</td>\n",
       "      <td>True</td>\n",
       "      <td>True</td>\n",
       "      <td>False</td>\n",
       "      <td>False</td>\n",
       "      <td>False</td>\n",
       "    </tr>\n",
       "    <tr>\n",
       "      <th>5</th>\n",
       "      <td>True</td>\n",
       "      <td>True</td>\n",
       "      <td>True</td>\n",
       "      <td>False</td>\n",
       "      <td>False</td>\n",
       "      <td>False</td>\n",
       "      <td>True</td>\n",
       "      <td>True</td>\n",
       "      <td>True</td>\n",
       "      <td>False</td>\n",
       "      <td>False</td>\n",
       "      <td>False</td>\n",
       "    </tr>\n",
       "    <tr>\n",
       "      <th>6</th>\n",
       "      <td>True</td>\n",
       "      <td>True</td>\n",
       "      <td>True</td>\n",
       "      <td>False</td>\n",
       "      <td>False</td>\n",
       "      <td>False</td>\n",
       "      <td>True</td>\n",
       "      <td>True</td>\n",
       "      <td>True</td>\n",
       "      <td>False</td>\n",
       "      <td>False</td>\n",
       "      <td>False</td>\n",
       "    </tr>\n",
       "    <tr>\n",
       "      <th>7</th>\n",
       "      <td>False</td>\n",
       "      <td>False</td>\n",
       "      <td>False</td>\n",
       "      <td>False</td>\n",
       "      <td>False</td>\n",
       "      <td>False</td>\n",
       "      <td>False</td>\n",
       "      <td>False</td>\n",
       "      <td>False</td>\n",
       "      <td>False</td>\n",
       "      <td>False</td>\n",
       "      <td>False</td>\n",
       "    </tr>\n",
       "    <tr>\n",
       "      <th>8</th>\n",
       "      <td>True</td>\n",
       "      <td>True</td>\n",
       "      <td>True</td>\n",
       "      <td>True</td>\n",
       "      <td>False</td>\n",
       "      <td>False</td>\n",
       "      <td>True</td>\n",
       "      <td>True</td>\n",
       "      <td>True</td>\n",
       "      <td>True</td>\n",
       "      <td>False</td>\n",
       "      <td>False</td>\n",
       "    </tr>\n",
       "    <tr>\n",
       "      <th>9</th>\n",
       "      <td>True</td>\n",
       "      <td>True</td>\n",
       "      <td>True</td>\n",
       "      <td>True</td>\n",
       "      <td>False</td>\n",
       "      <td>False</td>\n",
       "      <td>True</td>\n",
       "      <td>True</td>\n",
       "      <td>True</td>\n",
       "      <td>True</td>\n",
       "      <td>False</td>\n",
       "      <td>False</td>\n",
       "    </tr>\n",
       "  </tbody>\n",
       "</table>\n",
       "</div>"
      ],
      "text/plain": [
       "            my                                                         \\\n",
       "  Mann–Whitney                   Kolmogorov–Smirnov                     \n",
       "    bonferroni   homl bendjamini         bonferroni   homl bendjamini   \n",
       "0         True   True      False               True  False      False   \n",
       "1         True   True       True               True   True       True   \n",
       "2         True   True       True               True   True       True   \n",
       "3         True   True       True              False  False      False   \n",
       "4         True   True       True              False  False      False   \n",
       "5         True   True       True              False  False      False   \n",
       "6         True   True       True              False  False      False   \n",
       "7        False  False      False              False  False      False   \n",
       "8         True   True       True               True  False      False   \n",
       "9         True   True       True               True  False      False   \n",
       "\n",
       "       library                                                         \n",
       "  Mann–Whitney                   Kolmogorov–Smirnov                    \n",
       "    bonferroni   homl bendjamini         bonferroni   homl bendjamini  \n",
       "0         True   True      False               True  False      False  \n",
       "1         True   True       True               True   True       True  \n",
       "2         True   True       True               True   True       True  \n",
       "3         True   True       True              False  False      False  \n",
       "4         True   True       True              False  False      False  \n",
       "5         True   True       True              False  False      False  \n",
       "6         True   True       True              False  False      False  \n",
       "7        False  False      False              False  False      False  \n",
       "8         True   True       True               True  False      False  \n",
       "9         True   True       True               True  False      False  "
      ]
     },
     "execution_count": 21,
     "metadata": {},
     "output_type": "execute_result"
    }
   ],
   "source": [
    "from statsmodels.stats.multitest import multipletests\n",
    "res_accept_reject = {}\n",
    "df = pd.DataFrame(res)\n",
    "for method in ('my', 'library'):\n",
    "    for column in df.columns[1:]:\n",
    "        name_funcs = [\n",
    "            ('bonferroni', bonferroni_correction),\n",
    "            ('homl', holm_correction),\n",
    "            ('bendjamini', bendjamini_correction)\n",
    "        ] if method == 'my' else [\n",
    "            ('bonferroni', lambda *args, **kwargs: ~multipletests(*args, **kwargs, method='bonferroni')[0]),\n",
    "            ('homl', lambda *args, **kwargs: ~multipletests(*args, **kwargs, method='holm')[0]),\n",
    "            ('bendjamini', lambda *args, **kwargs: ~multipletests(*args, **kwargs, method='fdr_bh')[0])\n",
    "        ]\n",
    "        for name, func in name_funcs:\n",
    "            res_accept_reject[(method, column, name)] = func(df[column].values, alpha=alpha)\n",
    "\n",
    "result = pd.DataFrame(res_accept_reject)\n",
    "result"
   ]
  },
  {
   "cell_type": "code",
   "execution_count": 22,
   "metadata": {},
   "outputs": [
    {
     "data": {
      "image/png": "[encoded data removed]",
      "text/plain": [
       "<Figure size 1080x648 with 2 Axes>"
      ]
     },
     "metadata": {
      "needs_background": "light"
     },
     "output_type": "display_data"
    }
   ],
   "source": [
    "plt.figure(figsize=(15, 9))\n",
    "sns.heatmap(result['my'], annot=True, linewidths=.5, cmap=\"coolwarm\")\n",
    "plt.show()"
   ]
  },
  {
   "cell_type": "markdown",
   "metadata": {},
   "source": [
    "> Синяя ячейка означает, что гипотезу можно отвергнуть, красная - гипотеза не может быть отвергнута."
   ]
  },
  {
   "cell_type": "markdown",
   "metadata": {},
   "source": [
    "Рассмотрим дополнительно $\\alpha=0.01$:"
   ]
  },
  {
   "cell_type": "code",
   "execution_count": 23,
   "metadata": {},
   "outputs": [
    {
     "data": {
      "text/html": [
       "<div>\n",
       "<style scoped>\n",
       "    .dataframe tbody tr th:only-of-type {\n",
       "        vertical-align: middle;\n",
       "    }\n",
       "\n",
       "    .dataframe tbody tr th {\n",
       "        vertical-align: top;\n",
       "    }\n",
       "\n",
       "    .dataframe thead tr th {\n",
       "        text-align: left;\n",
       "    }\n",
       "</style>\n",
       "<table border=\"1\" class=\"dataframe\">\n",
       "  <thead>\n",
       "    <tr>\n",
       "      <th></th>\n",
       "      <th colspan=\"6\" halign=\"left\">my</th>\n",
       "      <th colspan=\"6\" halign=\"left\">library</th>\n",
       "    </tr>\n",
       "    <tr>\n",
       "      <th></th>\n",
       "      <th colspan=\"3\" halign=\"left\">Mann–Whitney</th>\n",
       "      <th colspan=\"3\" halign=\"left\">Kolmogorov–Smirnov</th>\n",
       "      <th colspan=\"3\" halign=\"left\">Mann–Whitney</th>\n",
       "      <th colspan=\"3\" halign=\"left\">Kolmogorov–Smirnov</th>\n",
       "    </tr>\n",
       "    <tr>\n",
       "      <th></th>\n",
       "      <th>bonferroni</th>\n",
       "      <th>homl</th>\n",
       "      <th>bendjamini</th>\n",
       "      <th>bonferroni</th>\n",
       "      <th>homl</th>\n",
       "      <th>bendjamini</th>\n",
       "      <th>bonferroni</th>\n",
       "      <th>homl</th>\n",
       "      <th>bendjamini</th>\n",
       "      <th>bonferroni</th>\n",
       "      <th>homl</th>\n",
       "      <th>bendjamini</th>\n",
       "    </tr>\n",
       "  </thead>\n",
       "  <tbody>\n",
       "    <tr>\n",
       "      <th>0</th>\n",
       "      <td>True</td>\n",
       "      <td>True</td>\n",
       "      <td>True</td>\n",
       "      <td>True</td>\n",
       "      <td>True</td>\n",
       "      <td>True</td>\n",
       "      <td>True</td>\n",
       "      <td>True</td>\n",
       "      <td>True</td>\n",
       "      <td>True</td>\n",
       "      <td>True</td>\n",
       "      <td>True</td>\n",
       "    </tr>\n",
       "    <tr>\n",
       "      <th>1</th>\n",
       "      <td>True</td>\n",
       "      <td>True</td>\n",
       "      <td>True</td>\n",
       "      <td>True</td>\n",
       "      <td>True</td>\n",
       "      <td>True</td>\n",
       "      <td>True</td>\n",
       "      <td>True</td>\n",
       "      <td>True</td>\n",
       "      <td>True</td>\n",
       "      <td>True</td>\n",
       "      <td>True</td>\n",
       "    </tr>\n",
       "    <tr>\n",
       "      <th>2</th>\n",
       "      <td>True</td>\n",
       "      <td>True</td>\n",
       "      <td>True</td>\n",
       "      <td>True</td>\n",
       "      <td>True</td>\n",
       "      <td>True</td>\n",
       "      <td>True</td>\n",
       "      <td>True</td>\n",
       "      <td>True</td>\n",
       "      <td>True</td>\n",
       "      <td>True</td>\n",
       "      <td>True</td>\n",
       "    </tr>\n",
       "    <tr>\n",
       "      <th>3</th>\n",
       "      <td>True</td>\n",
       "      <td>True</td>\n",
       "      <td>True</td>\n",
       "      <td>False</td>\n",
       "      <td>False</td>\n",
       "      <td>False</td>\n",
       "      <td>True</td>\n",
       "      <td>True</td>\n",
       "      <td>True</td>\n",
       "      <td>False</td>\n",
       "      <td>False</td>\n",
       "      <td>False</td>\n",
       "    </tr>\n",
       "    <tr>\n",
       "      <th>4</th>\n",
       "      <td>True</td>\n",
       "      <td>True</td>\n",
       "      <td>True</td>\n",
       "      <td>False</td>\n",
       "      <td>False</td>\n",
       "      <td>False</td>\n",
       "      <td>True</td>\n",
       "      <td>True</td>\n",
       "      <td>True</td>\n",
       "      <td>False</td>\n",
       "      <td>False</td>\n",
       "      <td>False</td>\n",
       "    </tr>\n",
       "    <tr>\n",
       "      <th>5</th>\n",
       "      <td>True</td>\n",
       "      <td>True</td>\n",
       "      <td>True</td>\n",
       "      <td>False</td>\n",
       "      <td>False</td>\n",
       "      <td>False</td>\n",
       "      <td>True</td>\n",
       "      <td>True</td>\n",
       "      <td>True</td>\n",
       "      <td>False</td>\n",
       "      <td>False</td>\n",
       "      <td>False</td>\n",
       "    </tr>\n",
       "    <tr>\n",
       "      <th>6</th>\n",
       "      <td>True</td>\n",
       "      <td>True</td>\n",
       "      <td>True</td>\n",
       "      <td>False</td>\n",
       "      <td>False</td>\n",
       "      <td>False</td>\n",
       "      <td>True</td>\n",
       "      <td>True</td>\n",
       "      <td>True</td>\n",
       "      <td>False</td>\n",
       "      <td>False</td>\n",
       "      <td>False</td>\n",
       "    </tr>\n",
       "    <tr>\n",
       "      <th>7</th>\n",
       "      <td>False</td>\n",
       "      <td>False</td>\n",
       "      <td>False</td>\n",
       "      <td>False</td>\n",
       "      <td>False</td>\n",
       "      <td>False</td>\n",
       "      <td>False</td>\n",
       "      <td>False</td>\n",
       "      <td>False</td>\n",
       "      <td>False</td>\n",
       "      <td>False</td>\n",
       "      <td>False</td>\n",
       "    </tr>\n",
       "    <tr>\n",
       "      <th>8</th>\n",
       "      <td>True</td>\n",
       "      <td>True</td>\n",
       "      <td>True</td>\n",
       "      <td>True</td>\n",
       "      <td>True</td>\n",
       "      <td>True</td>\n",
       "      <td>True</td>\n",
       "      <td>True</td>\n",
       "      <td>True</td>\n",
       "      <td>True</td>\n",
       "      <td>True</td>\n",
       "      <td>True</td>\n",
       "    </tr>\n",
       "    <tr>\n",
       "      <th>9</th>\n",
       "      <td>True</td>\n",
       "      <td>True</td>\n",
       "      <td>True</td>\n",
       "      <td>True</td>\n",
       "      <td>True</td>\n",
       "      <td>True</td>\n",
       "      <td>True</td>\n",
       "      <td>True</td>\n",
       "      <td>True</td>\n",
       "      <td>True</td>\n",
       "      <td>True</td>\n",
       "      <td>True</td>\n",
       "    </tr>\n",
       "  </tbody>\n",
       "</table>\n",
       "</div>"
      ],
      "text/plain": [
       "            my                                                         \\\n",
       "  Mann–Whitney                   Kolmogorov–Smirnov                     \n",
       "    bonferroni   homl bendjamini         bonferroni   homl bendjamini   \n",
       "0         True   True       True               True   True       True   \n",
       "1         True   True       True               True   True       True   \n",
       "2         True   True       True               True   True       True   \n",
       "3         True   True       True              False  False      False   \n",
       "4         True   True       True              False  False      False   \n",
       "5         True   True       True              False  False      False   \n",
       "6         True   True       True              False  False      False   \n",
       "7        False  False      False              False  False      False   \n",
       "8         True   True       True               True   True       True   \n",
       "9         True   True       True               True   True       True   \n",
       "\n",
       "       library                                                         \n",
       "  Mann–Whitney                   Kolmogorov–Smirnov                    \n",
       "    bonferroni   homl bendjamini         bonferroni   homl bendjamini  \n",
       "0         True   True       True               True   True       True  \n",
       "1         True   True       True               True   True       True  \n",
       "2         True   True       True               True   True       True  \n",
       "3         True   True       True              False  False      False  \n",
       "4         True   True       True              False  False      False  \n",
       "5         True   True       True              False  False      False  \n",
       "6         True   True       True              False  False      False  \n",
       "7        False  False      False              False  False      False  \n",
       "8         True   True       True               True   True       True  \n",
       "9         True   True       True               True   True       True  "
      ]
     },
     "execution_count": 23,
     "metadata": {},
     "output_type": "execute_result"
    }
   ],
   "source": [
    "from statsmodels.stats.multitest import multipletests\n",
    "res_accept_reject = {}\n",
    "df = pd.DataFrame(res)\n",
    "for method in ('my', 'library'):\n",
    "    for column in df.columns[1:]:\n",
    "        name_funcs = [\n",
    "            ('bonferroni', bonferroni_correction),\n",
    "            ('homl', holm_correction),\n",
    "            ('bendjamini', bendjamini_correction)\n",
    "        ] if method == 'my' else [\n",
    "            ('bonferroni', lambda *args, **kwargs: ~multipletests(*args, **kwargs, method='bonferroni')[0]),\n",
    "            ('homl', lambda *args, **kwargs: ~multipletests(*args, **kwargs, method='holm')[0]),\n",
    "            ('bendjamini', lambda *args, **kwargs: ~multipletests(*args, **kwargs, method='fdr_bh')[0])\n",
    "        ]\n",
    "        for name, func in name_funcs:\n",
    "            res_accept_reject[(method, column, name)] = func(df[column].values, alpha=0.01)\n",
    "\n",
    "result = pd.DataFrame(res_accept_reject)\n",
    "result"
   ]
  },
  {
   "cell_type": "markdown",
   "metadata": {},
   "source": [
    "*Дополнительная информация:* на самом деле лишь переменные $X_1$, $X_2$ и $X_3$ имеют одинаковое распределение."
   ]
  },
  {
   "cell_type": "markdown",
   "metadata": {},
   "source": [
    "Не забудьте сделать выводы!"
   ]
  },
  {
   "cell_type": "markdown",
   "metadata": {},
   "source": [
    "**Выводы:** Из графиков в \"Задаче 1\" видно, что $p$-значения распределены по закону близкому к нормальному, поэтому будем опираться на критерий Колмогорова-Смирнова. Известно, что метод Бонферрони является слишком грубым, поэтому расмотрим два других метода. Они дают идентичные результаты и говорят о том, что мы не можем отвергнуть гипотезу об одинаковости распределения только для переменных $X_2$, $X_3$. При этом мы понимаем, что мы можем ошибиться с уровнем значимости $\\alpha=0.05$, хотя бы в отвержении одной гипотезы, что мы и делаем, т.к. на самом деле ешё $X_1$ имеет одинаковое распределение переменных и следовательно данная гипотеза не должна была быть отвергнута. Заметим, что при уровне значимости $\\alpha=0.01$ мы не отвергаем данную гипотезу, и действуем более консервативно, хотя при этом дополнительно не можем отвергнуть гипотезу об одинаковости распределений переменных $X_8$, $X_9$. Данные результаты лишний раз подтверждают, что идеальных методов оценивания гипотез (в данном случае множественных) нет."
   ]
  }
 ],
 "metadata": {
  "kernelspec": {
   "display_name": "Python 3",
   "language": "python",
   "name": "python3"
  },
  "language_info": {
   "codemirror_mode": {
    "name": "ipython",
    "version": 3
   },
   "file_extension": ".py",
   "mimetype": "text/x-python",
   "name": "python",
   "nbconvert_exporter": "python",
   "pygments_lexer": "ipython3",
   "version": "3.7.8"
  }
 },
 "nbformat": 4,
 "nbformat_minor": 2
}
