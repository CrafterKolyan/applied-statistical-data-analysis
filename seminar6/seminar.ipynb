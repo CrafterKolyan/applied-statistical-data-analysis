{
 "cells": [
  {
   "cell_type": "markdown",
   "metadata": {},
   "source": [
    "# Одновыборочные непараметрические критерии\n",
    "---\n",
    "\n",
    "(Shervin, 2004): 16 лабораторных мышей были помещены в двухкомнатные клетки, в одной из комнат висело зеркало. Измерялась доля времени, которое каждая мышь проводила в каждой из своих двух клеток.\n",
    "\n",
    "Общая постановка:\n",
    "\n",
    "$H_0$ : мышам всё равно, висит в клетке зеркало или нет. \n",
    "\n",
    "$H_1$ : у мышей есть какие-то предпочтения насчёт зеркала."
   ]
  },
  {
   "cell_type": "code",
   "execution_count": 1,
   "metadata": {
    "execution": {
     "iopub.execute_input": "2020-11-03T16:22:54.407385Z",
     "iopub.status.busy": "2020-11-03T16:22:54.406800Z",
     "iopub.status.idle": "2020-11-03T16:22:55.259251Z",
     "shell.execute_reply": "2020-11-03T16:22:55.258699Z"
    }
   },
   "outputs": [],
   "source": [
    "import numpy as np\n",
    "import pandas as pd\n",
    "import seaborn as sns\n",
    "import matplotlib.pyplot as plt\n",
    "\n",
    "np.random.seed(228)"
   ]
  },
  {
   "cell_type": "code",
   "execution_count": 2,
   "metadata": {
    "execution": {
     "iopub.execute_input": "2020-11-03T16:22:55.264000Z",
     "iopub.status.busy": "2020-11-03T16:22:55.263413Z",
     "iopub.status.idle": "2020-11-03T16:22:55.267154Z",
     "shell.execute_reply": "2020-11-03T16:22:55.266667Z"
    }
   },
   "outputs": [],
   "source": [
    "mouses = pd.Series([0.348471, 0.640620, 0.549818, 0.537454, 0.400444, \n",
    "                    0.426292, 0.417156, 0.477977, 0.450657, 0.476602, \n",
    "                    0.488677, 0.484741,0.481614, 0.489406, 0.467365],\n",
    "                        name='time')"
   ]
  },
  {
   "cell_type": "code",
   "execution_count": 3,
   "metadata": {
    "execution": {
     "iopub.execute_input": "2020-11-03T16:22:55.278408Z",
     "iopub.status.busy": "2020-11-03T16:22:55.277781Z",
     "iopub.status.idle": "2020-11-03T16:22:55.282677Z",
     "shell.execute_reply": "2020-11-03T16:22:55.282146Z"
    }
   },
   "outputs": [
    {
     "data": {
      "text/plain": [
       "count    15.000000\n",
       "mean      0.475820\n",
       "std       0.068348\n",
       "min       0.348471\n",
       "25%       0.438474\n",
       "50%       0.477977\n",
       "75%       0.489042\n",
       "max       0.640620\n",
       "Name: time, dtype: float64"
      ]
     },
     "execution_count": 1,
     "metadata": {},
     "output_type": "execute_result"
    }
   ],
   "source": [
    "mouses.describe()"
   ]
  },
  {
   "cell_type": "code",
   "execution_count": 4,
   "metadata": {
    "execution": {
     "iopub.execute_input": "2020-11-03T16:22:55.287152Z",
     "iopub.status.busy": "2020-11-03T16:22:55.286428Z",
     "iopub.status.idle": "2020-11-03T16:22:55.466053Z",
     "shell.execute_reply": "2020-11-03T16:22:55.465189Z"
    }
   },
   "outputs": [
    {
     "name": "stderr",
     "output_type": "stream",
     "text": [
      "/opt/hostedtoolcache/Python/3.9.0/x64/lib/python3.9/site-packages/seaborn/distributions.py:2551: FutureWarning: `distplot` is a deprecated function and will be removed in a future version. Please adapt your code to use either `displot` (a figure-level function with similar flexibility) or `histplot` (an axes-level function for histograms).\n",
      "  warnings.warn(msg, FutureWarning)\n"
     ]
    },
    {
     "data": {
      "text/plain": [
       "<AxesSubplot:xlabel='time', ylabel='Density'>"
      ]
     },
     "execution_count": 1,
     "metadata": {},
     "output_type": "execute_result"
    },
    {
     "data": {
      "image/png": "[encoded data removed]",
      "text/plain": [
       "<Figure size 432x288 with 1 Axes>"
      ]
     },
     "metadata": {
      "needs_background": "light"
     },
     "output_type": "display_data"
    }
   ],
   "source": [
    "sns.distplot(mouses);"
   ]
  },
  {
   "cell_type": "markdown",
   "metadata": {},
   "source": [
    "Есть ли у мышей предпочтения?\n",
    "Найдите среднюю долю времени, которую мыши проводят в комнате с зеркалом. Для этого постройте 95% доверительный интервал с помощью z-теста (воспользуйтесь `zconfint`). Какие выводы можнно сделать основываясь на полученных результатах?"
   ]
  },
  {
   "cell_type": "code",
   "execution_count": 5,
   "metadata": {
    "execution": {
     "iopub.execute_input": "2020-11-03T16:22:55.470863Z",
     "iopub.status.busy": "2020-11-03T16:22:55.469405Z",
     "iopub.status.idle": "2020-11-03T16:22:55.482426Z",
     "shell.execute_reply": "2020-11-03T16:22:55.481862Z"
    }
   },
   "outputs": [
    {
     "data": {
      "text/plain": [
       "(0.4412313838093066, 0.5104078161906933)"
      ]
     },
     "execution_count": 1,
     "metadata": {},
     "output_type": "execute_result"
    }
   ],
   "source": [
    "from statsmodels.stats.weightstats import zconfint\n",
    "zconfint(mouses)"
   ]
  },
  {
   "cell_type": "markdown",
   "metadata": {},
   "source": [
    "Воспользуйтесь критерием Вилкоксона из библиотеки. "
   ]
  },
  {
   "cell_type": "code",
   "execution_count": 6,
   "metadata": {
    "execution": {
     "iopub.execute_input": "2020-11-03T16:22:55.487866Z",
     "iopub.status.busy": "2020-11-03T16:22:55.487256Z",
     "iopub.status.idle": "2020-11-03T16:22:55.492647Z",
     "shell.execute_reply": "2020-11-03T16:22:55.492148Z"
    }
   },
   "outputs": [
    {
     "data": {
      "text/plain": [
       "WilcoxonResult(statistic=32.0, pvalue=0.12054443359375)"
      ]
     },
     "execution_count": 1,
     "metadata": {},
     "output_type": "execute_result"
    }
   ],
   "source": [
    "from scipy.stats import wilcoxon\n",
    "wilcoxon(mouses - 0.5)"
   ]
  },
  {
   "cell_type": "markdown",
   "metadata": {},
   "source": [
    "### Воспользуйтесь перестановочным тестом."
   ]
  },
  {
   "cell_type": "markdown",
   "metadata": {},
   "source": [
    "(1) Сгенерируйте нулевое распределение для перестановочного теста. Для этого вам необходимо центрировать ваши значения и просуммировать их со всевозможными комбинациями знаков {+1, -1}.\n",
    "\n",
    "- Сгенерируйте выборки со всеми возможными перестановками знаков, полученных при центрировании значений (таких значений у вас получится $2^n$, где $n$ - размер выборки). Вам может помочь функция `itertools.product`\n",
    "- Центрируйте значения выборки и просуммируйте значения элементов с учетом знаков {+1, -1}"
   ]
  },
  {
   "cell_type": "code",
   "execution_count": 7,
   "metadata": {
    "execution": {
     "iopub.execute_input": "2020-11-03T16:22:55.497403Z",
     "iopub.status.busy": "2020-11-03T16:22:55.496812Z",
     "iopub.status.idle": "2020-11-03T16:22:55.502002Z",
     "shell.execute_reply": "2020-11-03T16:22:55.502493Z"
    }
   },
   "outputs": [
    {
     "data": {
      "text/plain": [
       "[(-1, -1, -1),\n",
       " (-1, -1, 1),\n",
       " (-1, 1, -1),\n",
       " (-1, 1, 1),\n",
       " (1, -1, -1),\n",
       " (1, -1, 1),\n",
       " (1, 1, -1),\n",
       " (1, 1, 1)]"
      ]
     },
     "execution_count": 1,
     "metadata": {},
     "output_type": "execute_result"
    }
   ],
   "source": [
    "from itertools import product\n",
    "list(product([-1, 1], repeat=3))"
   ]
  },
  {
   "cell_type": "code",
   "execution_count": 8,
   "metadata": {
    "execution": {
     "iopub.execute_input": "2020-11-03T16:22:55.509167Z",
     "iopub.status.busy": "2020-11-03T16:22:55.507726Z",
     "iopub.status.idle": "2020-11-03T16:22:55.509839Z",
     "shell.execute_reply": "2020-11-03T16:22:55.510359Z"
    }
   },
   "outputs": [],
   "source": [
    "def permutation_zero_distr_1sample(sample, mean):\n",
    "    signs = product([-1, 1], repeat=sample.shape[0])\n",
    "    signs = np.array(list(signs))\n",
    "    mouse_distr = signs.dot(sample - mean) \n",
    "    return mouse_distr"
   ]
  },
  {
   "cell_type": "markdown",
   "metadata": {},
   "source": [
    "Проиллюстрируйте полученное нулевое распределение гипотезы о доле времени мышей в комнатах."
   ]
  },
  {
   "cell_type": "code",
   "execution_count": 9,
   "metadata": {
    "execution": {
     "iopub.execute_input": "2020-11-03T16:22:55.600526Z",
     "iopub.status.busy": "2020-11-03T16:22:55.599910Z",
     "iopub.status.idle": "2020-11-03T16:22:56.047237Z",
     "shell.execute_reply": "2020-11-03T16:22:56.046663Z"
    }
   },
   "outputs": [
    {
     "name": "stderr",
     "output_type": "stream",
     "text": [
      "/opt/hostedtoolcache/Python/3.9.0/x64/lib/python3.9/site-packages/seaborn/distributions.py:2551: FutureWarning: `distplot` is a deprecated function and will be removed in a future version. Please adapt your code to use either `displot` (a figure-level function with similar flexibility) or `histplot` (an axes-level function for histograms).\n",
      "  warnings.warn(msg, FutureWarning)\n"
     ]
    },
    {
     "data": {
      "image/png": "[encoded data removed]",
      "text/plain": [
       "<Figure size 432x288 with 1 Axes>"
      ]
     },
     "metadata": {
      "needs_background": "light"
     },
     "output_type": "display_data"
    }
   ],
   "source": [
    "mouse_distr = permutation_zero_distr_1sample(mouses, 0.5)\n",
    "sns.distplot(mouse_distr)\n",
    "plt.show()"
   ]
  },
  {
   "cell_type": "markdown",
   "metadata": {},
   "source": [
    "(2) Посчитайте статистику перестановочного теста. Для этого вам необходимо центрировать ваши значения и просуммировать их."
   ]
  },
  {
   "cell_type": "code",
   "execution_count": 10,
   "metadata": {
    "execution": {
     "iopub.execute_input": "2020-11-03T16:22:56.053094Z",
     "iopub.status.busy": "2020-11-03T16:22:56.052502Z",
     "iopub.status.idle": "2020-11-03T16:22:56.056373Z",
     "shell.execute_reply": "2020-11-03T16:22:56.055854Z"
    }
   },
   "outputs": [],
   "source": [
    "def permutation_t_stat_1sample(sample, mean):\n",
    "    t_stat = (sample - mean).sum()\n",
    "    return t_stat"
   ]
  },
  {
   "cell_type": "markdown",
   "metadata": {},
   "source": [
    "Чему равно значение статистики в задаче о мышах?"
   ]
  },
  {
   "cell_type": "code",
   "execution_count": 11,
   "metadata": {
    "execution": {
     "iopub.execute_input": "2020-11-03T16:22:56.061214Z",
     "iopub.status.busy": "2020-11-03T16:22:56.060628Z",
     "iopub.status.idle": "2020-11-03T16:22:56.066502Z",
     "shell.execute_reply": "2020-11-03T16:22:56.065734Z"
    }
   },
   "outputs": [
    {
     "data": {
      "text/plain": [
       "-0.3627060000000001"
      ]
     },
     "execution_count": 1,
     "metadata": {},
     "output_type": "execute_result"
    }
   ],
   "source": [
    "t_stat = permutation_t_stat_1sample(mouses, 0.5)\n",
    "t_stat"
   ]
  },
  {
   "cell_type": "markdown",
   "metadata": {},
   "source": [
    "3) Реализуйте сам тест для двусторонней и односторонних альтернатив. Достигаемый уровень значимости -- доля перестановок знаков, на которых получилось такое же или ещё более экстремальное значение статистики."
   ]
  },
  {
   "cell_type": "code",
   "execution_count": 12,
   "metadata": {
    "execution": {
     "iopub.execute_input": "2020-11-03T16:22:56.072109Z",
     "iopub.status.busy": "2020-11-03T16:22:56.071516Z",
     "iopub.status.idle": "2020-11-03T16:22:56.075027Z",
     "shell.execute_reply": "2020-11-03T16:22:56.075535Z"
    }
   },
   "outputs": [],
   "source": [
    "def permutation_test(sample, mean, alternative):\n",
    "    if alternative not in ('two-sided', 'less', 'greater'):\n",
    "        raise ValueError(\"alternative not found\")\n",
    "        \n",
    "    t_stat = permutation_t_stat_1sample(sample, mean)\n",
    "    zero_distr = permutation_zero_distr_1sample(sample, mean)\n",
    "    \n",
    "    if alternative == 'two-sided':\n",
    "        two_sided_p = (abs(zero_distr) >= abs(t_stat)).mean()\n",
    "        return two_sided_p\n",
    "    \n",
    "    if alternative == 'less':\n",
    "        left_sided_p = (zero_distr <= t_stat).mean()\n",
    "        return left_sided_p\n",
    "    \n",
    "    if alternative == 'greater':\n",
    "        right_sided_p = (zero_distr >= t_stat).mean()\n",
    "        return right_sided_p"
   ]
  },
  {
   "cell_type": "markdown",
   "metadata": {},
   "source": [
    "Чему равно значение p-value перестановочного теста в задаче о мышах? Можем ли мы отвергнуть нулевую гипотезу?"
   ]
  },
  {
   "cell_type": "code",
   "execution_count": 13,
   "metadata": {
    "execution": {
     "iopub.execute_input": "2020-11-03T16:22:56.164897Z",
     "iopub.status.busy": "2020-11-03T16:22:56.164265Z",
     "iopub.status.idle": "2020-11-03T16:22:56.170405Z",
     "shell.execute_reply": "2020-11-03T16:22:56.169529Z"
    }
   },
   "outputs": [
    {
     "data": {
      "text/plain": [
       "0.1949462890625"
      ]
     },
     "execution_count": 1,
     "metadata": {},
     "output_type": "execute_result"
    }
   ],
   "source": [
    "permutation_test(mouses, 0.5, alternative='two-sided')"
   ]
  },
  {
   "cell_type": "code",
   "execution_count": 14,
   "metadata": {
    "execution": {
     "iopub.execute_input": "2020-11-03T16:22:56.256630Z",
     "iopub.status.busy": "2020-11-03T16:22:56.256014Z",
     "iopub.status.idle": "2020-11-03T16:22:56.264274Z",
     "shell.execute_reply": "2020-11-03T16:22:56.265069Z"
    }
   },
   "outputs": [
    {
     "data": {
      "text/plain": [
       "0.09747314453125"
      ]
     },
     "execution_count": 1,
     "metadata": {},
     "output_type": "execute_result"
    }
   ],
   "source": [
    "permutation_test(mouses, 0.5, alternative='less')"
   ]
  },
  {
   "cell_type": "code",
   "execution_count": 15,
   "metadata": {
    "execution": {
     "iopub.execute_input": "2020-11-03T16:22:56.268685Z",
     "iopub.status.busy": "2020-11-03T16:22:56.267518Z",
     "iopub.status.idle": "2020-11-03T16:22:56.364029Z",
     "shell.execute_reply": "2020-11-03T16:22:56.364508Z"
    }
   },
   "outputs": [
    {
     "data": {
      "text/plain": [
       "0.902557373046875"
      ]
     },
     "execution_count": 1,
     "metadata": {},
     "output_type": "execute_result"
    }
   ],
   "source": [
    "permutation_test(mouses, 0.5, alternative='greater')"
   ]
  }
 ],
 "metadata": {
  "kernelspec": {
   "display_name": "Python 3",
   "language": "python",
   "name": "python3"
  },
  "language_info": {
   "codemirror_mode": {
    "name": "ipython",
    "version": 3
   },
   "file_extension": ".py",
   "mimetype": "text/x-python",
   "name": "python",
   "nbconvert_exporter": "python",
   "pygments_lexer": "ipython3",
   "version": "3.9.0"
  }
 },
 "nbformat": 4,
 "nbformat_minor": 4
}
